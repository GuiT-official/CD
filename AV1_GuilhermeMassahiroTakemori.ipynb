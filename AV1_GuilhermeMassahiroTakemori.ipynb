{
 "cells": [
  {
   "cell_type": "markdown",
   "metadata": {},
   "source": [
    "# Trabalho Presencial - AV1\n",
    "\n",
    "**Aluno**: *Guilherme Massahiro Takemori*"
   ]
  },
  {
   "cell_type": "markdown",
   "metadata": {},
   "source": [
    "## Preparação de ambiente\n",
    "\n",
    "A célula abaixo instala e importa as bibliotecas necessárias para a realização desse trabalho.\n",
    "\n",
    "Retire os comentários da instalação caso o seu ambiente não possua as bibliotecas."
   ]
  },
  {
   "cell_type": "code",
   "execution_count": 4,
   "metadata": {},
   "outputs": [],
   "source": [
    "#! pip install altair\n",
    "#! pip install pandas\n",
    "#! pip install numpy\n",
    "#! pip install nbconvert\n",
    "\n",
    "import altair as alt\n",
    "import pandas as pd\n",
    "import numpy as np\n",
    "import nbconvert"
   ]
  },
  {
   "cell_type": "markdown",
   "metadata": {},
   "source": [
    "Devido ao tamanho da base de dados, será necessário utilizar as bibliotecas abaixo:"
   ]
  },
  {
   "cell_type": "code",
   "execution_count": 5,
   "metadata": {},
   "outputs": [
    {
     "name": "stdout",
     "output_type": "stream",
     "text": [
      "Requirement already satisfied: vegafusion>=1.5.0 in c:\\users\\gabriel\\appdata\\local\\programs\\python\\python313\\lib\\site-packages (from vegafusion[embed]>=1.5.0) (2.0.1)\n",
      "Requirement already satisfied: arro3-core in c:\\users\\gabriel\\appdata\\local\\programs\\python\\python313\\lib\\site-packages (from vegafusion>=1.5.0->vegafusion[embed]>=1.5.0) (0.4.5)\n",
      "Requirement already satisfied: packaging in c:\\users\\gabriel\\appdata\\local\\programs\\python\\python313\\lib\\site-packages (from vegafusion>=1.5.0->vegafusion[embed]>=1.5.0) (24.2)\n",
      "Requirement already satisfied: narwhals>=1.13 in c:\\users\\gabriel\\appdata\\local\\programs\\python\\python313\\lib\\site-packages (from vegafusion>=1.5.0->vegafusion[embed]>=1.5.0) (1.24.1)\n"
     ]
    },
    {
     "name": "stderr",
     "output_type": "stream",
     "text": [
      "\n",
      "[notice] A new release of pip is available: 24.2 -> 25.0\n",
      "[notice] To update, run: C:\\Users\\Gabriel\\AppData\\Local\\Programs\\Python\\Python313\\python.exe -m pip install --upgrade pip\n"
     ]
    },
    {
     "name": "stdout",
     "output_type": "stream",
     "text": [
      "Requirement already satisfied: vl-convert-python>=1.6.0 in c:\\users\\gabriel\\appdata\\local\\programs\\python\\python313\\lib\\site-packages (1.7.0)\n"
     ]
    },
    {
     "name": "stderr",
     "output_type": "stream",
     "text": [
      "\n",
      "[notice] A new release of pip is available: 24.2 -> 25.0\n",
      "[notice] To update, run: C:\\Users\\Gabriel\\AppData\\Local\\Programs\\Python\\Python313\\python.exe -m pip install --upgrade pip\n"
     ]
    }
   ],
   "source": [
    "! pip install \"vegafusion[embed]>=1.5.0\"\n",
    "! pip install \"vl-convert-python>=1.6.0\""
   ]
  },
  {
   "cell_type": "markdown",
   "metadata": {},
   "source": [
    "Vou escolher a base de dados de **Alfabetização por Sexo, Raça e Grupo de Idade** ([Link da base](https://basedosdados.org/dataset/08a1546e-251f-4546-9fe0-b1e6ab2b203d?table=cf9537b5-6198-455f-a8b0-7c762e94d79c)):"
   ]
  },
  {
   "cell_type": "code",
   "execution_count": 6,
   "metadata": {},
   "outputs": [
    {
     "data": {
      "text/html": [
       "<div>\n",
       "<style scoped>\n",
       "    .dataframe tbody tr th:only-of-type {\n",
       "        vertical-align: middle;\n",
       "    }\n",
       "\n",
       "    .dataframe tbody tr th {\n",
       "        vertical-align: top;\n",
       "    }\n",
       "\n",
       "    .dataframe thead th {\n",
       "        text-align: right;\n",
       "    }\n",
       "</style>\n",
       "<table border=\"1\" class=\"dataframe\">\n",
       "  <thead>\n",
       "    <tr style=\"text-align: right;\">\n",
       "      <th></th>\n",
       "      <th>id_municipio</th>\n",
       "      <th>cor_raca</th>\n",
       "      <th>sexo</th>\n",
       "      <th>grupo_idade</th>\n",
       "      <th>alfabetizacao</th>\n",
       "      <th>populacao</th>\n",
       "    </tr>\n",
       "  </thead>\n",
       "  <tbody>\n",
       "    <tr>\n",
       "      <th>0</th>\n",
       "      <td>1100023</td>\n",
       "      <td>Indígena</td>\n",
       "      <td>Homens</td>\n",
       "      <td>15 a 19 anos</td>\n",
       "      <td>Não alfabetizadas</td>\n",
       "      <td>NaN</td>\n",
       "    </tr>\n",
       "    <tr>\n",
       "      <th>1</th>\n",
       "      <td>1100262</td>\n",
       "      <td>Amarela</td>\n",
       "      <td>Mulheres</td>\n",
       "      <td>15 a 19 anos</td>\n",
       "      <td>Não alfabetizadas</td>\n",
       "      <td>NaN</td>\n",
       "    </tr>\n",
       "    <tr>\n",
       "      <th>2</th>\n",
       "      <td>1101005</td>\n",
       "      <td>Amarela</td>\n",
       "      <td>Mulheres</td>\n",
       "      <td>15 a 19 anos</td>\n",
       "      <td>Não alfabetizadas</td>\n",
       "      <td>NaN</td>\n",
       "    </tr>\n",
       "    <tr>\n",
       "      <th>3</th>\n",
       "      <td>1101435</td>\n",
       "      <td>Amarela</td>\n",
       "      <td>Mulheres</td>\n",
       "      <td>15 a 19 anos</td>\n",
       "      <td>Não alfabetizadas</td>\n",
       "      <td>NaN</td>\n",
       "    </tr>\n",
       "    <tr>\n",
       "      <th>4</th>\n",
       "      <td>1101435</td>\n",
       "      <td>Indígena</td>\n",
       "      <td>Mulheres</td>\n",
       "      <td>15 a 19 anos</td>\n",
       "      <td>Não alfabetizadas</td>\n",
       "      <td>NaN</td>\n",
       "    </tr>\n",
       "    <tr>\n",
       "      <th>...</th>\n",
       "      <td>...</td>\n",
       "      <td>...</td>\n",
       "      <td>...</td>\n",
       "      <td>...</td>\n",
       "      <td>...</td>\n",
       "      <td>...</td>\n",
       "    </tr>\n",
       "    <tr>\n",
       "      <th>779795</th>\n",
       "      <td>2924009</td>\n",
       "      <td>Parda</td>\n",
       "      <td>Homens</td>\n",
       "      <td>65 anos ou mais</td>\n",
       "      <td>Alfabetizadas</td>\n",
       "      <td>1791.0</td>\n",
       "    </tr>\n",
       "    <tr>\n",
       "      <th>779796</th>\n",
       "      <td>4318903</td>\n",
       "      <td>Branca</td>\n",
       "      <td>Mulheres</td>\n",
       "      <td>65 anos ou mais</td>\n",
       "      <td>Alfabetizadas</td>\n",
       "      <td>2047.0</td>\n",
       "    </tr>\n",
       "    <tr>\n",
       "      <th>779797</th>\n",
       "      <td>4127700</td>\n",
       "      <td>Branca</td>\n",
       "      <td>Homens</td>\n",
       "      <td>65 anos ou mais</td>\n",
       "      <td>Alfabetizadas</td>\n",
       "      <td>4351.0</td>\n",
       "    </tr>\n",
       "    <tr>\n",
       "      <th>779798</th>\n",
       "      <td>3302700</td>\n",
       "      <td>Branca</td>\n",
       "      <td>Mulheres</td>\n",
       "      <td>65 anos ou mais</td>\n",
       "      <td>Alfabetizadas</td>\n",
       "      <td>7167.0</td>\n",
       "    </tr>\n",
       "    <tr>\n",
       "      <th>779799</th>\n",
       "      <td>2607901</td>\n",
       "      <td>Parda</td>\n",
       "      <td>Mulheres</td>\n",
       "      <td>65 anos ou mais</td>\n",
       "      <td>Alfabetizadas</td>\n",
       "      <td>13823.0</td>\n",
       "    </tr>\n",
       "  </tbody>\n",
       "</table>\n",
       "<p>779800 rows × 6 columns</p>\n",
       "</div>"
      ],
      "text/plain": [
       "        id_municipio  cor_raca      sexo      grupo_idade      alfabetizacao  \\\n",
       "0            1100023  Indígena    Homens     15 a 19 anos  Não alfabetizadas   \n",
       "1            1100262   Amarela  Mulheres     15 a 19 anos  Não alfabetizadas   \n",
       "2            1101005   Amarela  Mulheres     15 a 19 anos  Não alfabetizadas   \n",
       "3            1101435   Amarela  Mulheres     15 a 19 anos  Não alfabetizadas   \n",
       "4            1101435  Indígena  Mulheres     15 a 19 anos  Não alfabetizadas   \n",
       "...              ...       ...       ...              ...                ...   \n",
       "779795       2924009     Parda    Homens  65 anos ou mais      Alfabetizadas   \n",
       "779796       4318903    Branca  Mulheres  65 anos ou mais      Alfabetizadas   \n",
       "779797       4127700    Branca    Homens  65 anos ou mais      Alfabetizadas   \n",
       "779798       3302700    Branca  Mulheres  65 anos ou mais      Alfabetizadas   \n",
       "779799       2607901     Parda  Mulheres  65 anos ou mais      Alfabetizadas   \n",
       "\n",
       "        populacao  \n",
       "0             NaN  \n",
       "1             NaN  \n",
       "2             NaN  \n",
       "3             NaN  \n",
       "4             NaN  \n",
       "...           ...  \n",
       "779795     1791.0  \n",
       "779796     2047.0  \n",
       "779797     4351.0  \n",
       "779798     7167.0  \n",
       "779799    13823.0  \n",
       "\n",
       "[779800 rows x 6 columns]"
      ]
     },
     "execution_count": 6,
     "metadata": {},
     "output_type": "execute_result"
    }
   ],
   "source": [
    "dado = pd.read_csv('br_ibge_censo_2022_alfabetizacao_grupo_idade_sexo_raca.csv', on_bad_lines='skip')\n",
    "dado"
   ]
  },
  {
   "cell_type": "markdown",
   "metadata": {},
   "source": [
    "Temos assim, as variáveis com seus respectivos tipos:\n",
    "\n",
    "* `id_municipio`: nominal\n",
    "* `cor_raca`: nominal\n",
    "* `sexo`: nominal\n",
    "* `grupo_idade`: ordinal\n",
    "* `alfabetizacao`: nominal\n",
    "* `populacao`: quantitativa\n",
    "\n",
    "Podemos perceber que a base possui problemas:\n"
   ]
  },
  {
   "cell_type": "code",
   "execution_count": 7,
   "metadata": {},
   "outputs": [
    {
     "name": "stdout",
     "output_type": "stream",
     "text": [
      "[] \n",
      "\n",
      "['Indígena' 'Amarela' 'Preta' 'Branca' 'Parda'] \n",
      "\n",
      "['Homens' 'Mulheres'] \n",
      "\n",
      "['15 a 19 anos' '20 a 24 anos' '25 a 34 anos' '35 a 44 anos'\n",
      " '45 a 54 anos' '55 a 64 anos' '65 anos ou mais'] \n",
      "\n",
      "['Não alfabetizadas' 'Alfabetizadas'] \n",
      "\n",
      "[nan]\n"
     ]
    }
   ],
   "source": [
    "print(list(pd.unique(dado[~pd.to_numeric(dado['id_municipio'], errors='coerce').notna()]['id_municipio'])), '\\n') # Dados não numéricos ou nulos na coluna id_municipio\n",
    "print(pd.unique(dado['cor_raca']), '\\n')\n",
    "print(pd.unique(dado['sexo']), '\\n')\n",
    "print(pd.unique(dado['grupo_idade']), '\\n')\n",
    "print(pd.unique(dado['alfabetizacao']), '\\n')\n",
    "print(list(pd.unique(dado[~pd.to_numeric(dado['populacao'], errors='coerce').notna()]['populacao']))) # Dados não numéricos ou nulos na coluna populacao"
   ]
  },
  {
   "cell_type": "markdown",
   "metadata": {},
   "source": [
    "Portanto limpemos-na:"
   ]
  },
  {
   "cell_type": "code",
   "execution_count": 8,
   "metadata": {},
   "outputs": [],
   "source": [
    "dado = dado[pd.to_numeric(dado['id_municipio'], errors='coerce').notna() | dado['id_municipio'].isna()]\n",
    "\n",
    "dado = dado[dado['cor_raca'].isin(('Indígena', 'Amarela', 'Preta', 'Branca', 'Parda')) | dado['cor_raca'].isna()]\n",
    "\n",
    "dado = dado[dado['sexo'].isin(('Homens', 'Mulheres')) | dado['sexo'].isna()]\n",
    "\n",
    "dado = dado[dado['grupo_idade'].isin(('15 a 19 anos', '20 a 24 anos', '25 a 34 anos', '35 a 44 anos', '45 a 54 anos', '55 a 64 anos', '65 anos ou mais')) | dado['grupo_idade'].isna()]\n",
    "\n",
    "dado = dado[dado['alfabetizacao'].isin(('Não alfabetizadas', 'Alfabetizadas')) | dado['alfabetizacao'].isna()]\n",
    "\n",
    "dado = dado[pd.to_numeric(dado['populacao'], errors='coerce').notna() | dado['populacao'].isna()]"
   ]
  },
  {
   "cell_type": "markdown",
   "metadata": {},
   "source": [
    "Aqui está os resumos de estatística descritiva:"
   ]
  },
  {
   "cell_type": "code",
   "execution_count": 9,
   "metadata": {},
   "outputs": [
    {
     "data": {
      "text/plain": [
       "cor_raca\n",
       "Indígena    155960\n",
       "Amarela     155960\n",
       "Preta       155960\n",
       "Branca      155960\n",
       "Parda       155960\n",
       "Name: count, dtype: int64"
      ]
     },
     "execution_count": 9,
     "metadata": {},
     "output_type": "execute_result"
    }
   ],
   "source": [
    "dado['cor_raca'].value_counts()"
   ]
  },
  {
   "cell_type": "code",
   "execution_count": 10,
   "metadata": {},
   "outputs": [
    {
     "data": {
      "text/plain": [
       "sexo\n",
       "Homens      389900\n",
       "Mulheres    389900\n",
       "Name: count, dtype: int64"
      ]
     },
     "execution_count": 10,
     "metadata": {},
     "output_type": "execute_result"
    }
   ],
   "source": [
    "dado['sexo'].value_counts()"
   ]
  },
  {
   "cell_type": "code",
   "execution_count": 11,
   "metadata": {},
   "outputs": [
    {
     "data": {
      "text/plain": [
       "grupo_idade\n",
       "15 a 19 anos       111400\n",
       "20 a 24 anos       111400\n",
       "25 a 34 anos       111400\n",
       "35 a 44 anos       111400\n",
       "45 a 54 anos       111400\n",
       "55 a 64 anos       111400\n",
       "65 anos ou mais    111400\n",
       "Name: count, dtype: int64"
      ]
     },
     "execution_count": 11,
     "metadata": {},
     "output_type": "execute_result"
    }
   ],
   "source": [
    "dado['grupo_idade'].value_counts()"
   ]
  },
  {
   "cell_type": "code",
   "execution_count": 12,
   "metadata": {},
   "outputs": [
    {
     "data": {
      "text/plain": [
       "alfabetizacao\n",
       "Não alfabetizadas    389900\n",
       "Alfabetizadas        389900\n",
       "Name: count, dtype: int64"
      ]
     },
     "execution_count": 12,
     "metadata": {},
     "output_type": "execute_result"
    }
   ],
   "source": [
    "dado['alfabetizacao'].value_counts()"
   ]
  },
  {
   "cell_type": "code",
   "execution_count": 13,
   "metadata": {},
   "outputs": [
    {
     "data": {
      "text/html": [
       "<div>\n",
       "<style scoped>\n",
       "    .dataframe tbody tr th:only-of-type {\n",
       "        vertical-align: middle;\n",
       "    }\n",
       "\n",
       "    .dataframe tbody tr th {\n",
       "        vertical-align: top;\n",
       "    }\n",
       "\n",
       "    .dataframe thead th {\n",
       "        text-align: right;\n",
       "    }\n",
       "</style>\n",
       "<table border=\"1\" class=\"dataframe\">\n",
       "  <thead>\n",
       "    <tr style=\"text-align: right;\">\n",
       "      <th></th>\n",
       "      <th>id_municipio</th>\n",
       "      <th>populacao</th>\n",
       "    </tr>\n",
       "  </thead>\n",
       "  <tbody>\n",
       "    <tr>\n",
       "      <th>count</th>\n",
       "      <td>7.798000e+05</td>\n",
       "      <td>529715.000000</td>\n",
       "    </tr>\n",
       "    <tr>\n",
       "      <th>mean</th>\n",
       "      <td>3.253591e+06</td>\n",
       "      <td>307.603172</td>\n",
       "    </tr>\n",
       "    <tr>\n",
       "      <th>std</th>\n",
       "      <td>9.848226e+05</td>\n",
       "      <td>3154.010564</td>\n",
       "    </tr>\n",
       "    <tr>\n",
       "      <th>min</th>\n",
       "      <td>1.100015e+06</td>\n",
       "      <td>1.000000</td>\n",
       "    </tr>\n",
       "    <tr>\n",
       "      <th>25%</th>\n",
       "      <td>2.512101e+06</td>\n",
       "      <td>5.000000</td>\n",
       "    </tr>\n",
       "    <tr>\n",
       "      <th>50%</th>\n",
       "      <td>3.146280e+06</td>\n",
       "      <td>30.000000</td>\n",
       "    </tr>\n",
       "    <tr>\n",
       "      <th>75%</th>\n",
       "      <td>4.119202e+06</td>\n",
       "      <td>139.000000</td>\n",
       "    </tr>\n",
       "    <tr>\n",
       "      <th>max</th>\n",
       "      <td>5.300108e+06</td>\n",
       "      <td>536242.000000</td>\n",
       "    </tr>\n",
       "  </tbody>\n",
       "</table>\n",
       "</div>"
      ],
      "text/plain": [
       "       id_municipio      populacao\n",
       "count  7.798000e+05  529715.000000\n",
       "mean   3.253591e+06     307.603172\n",
       "std    9.848226e+05    3154.010564\n",
       "min    1.100015e+06       1.000000\n",
       "25%    2.512101e+06       5.000000\n",
       "50%    3.146280e+06      30.000000\n",
       "75%    4.119202e+06     139.000000\n",
       "max    5.300108e+06  536242.000000"
      ]
     },
     "execution_count": 13,
     "metadata": {},
     "output_type": "execute_result"
    }
   ],
   "source": [
    "dado.describe()"
   ]
  },
  {
   "cell_type": "markdown",
   "metadata": {},
   "source": [
    "Aqui está a análise bidimensional para um par de variáveis categóricas:"
   ]
  },
  {
   "cell_type": "code",
   "execution_count": 14,
   "metadata": {},
   "outputs": [
    {
     "ename": "TypeError",
     "evalue": "Expected Table-like input or dict of arrays or sequence of arrays.",
     "output_type": "error",
     "traceback": [
      "\u001b[1;31m---------------------------------------------------------------------------\u001b[0m",
      "\u001b[1;31mTypeError\u001b[0m                                 Traceback (most recent call last)",
      "File \u001b[1;32mc:\\Users\\Gabriel\\AppData\\Local\\Programs\\Python\\Python312\\Lib\\site-packages\\vegafusion\\runtime.py:326\u001b[0m, in \u001b[0;36mVegaFusionRuntime._import_inline_datasets\u001b[1;34m(self, inline_datasets, inline_dataset_usage)\u001b[0m\n\u001b[0;32m    324\u001b[0m         df_nw \u001b[38;5;241m=\u001b[39m df_nw\u001b[38;5;241m.\u001b[39mselect(columns)\n\u001b[1;32m--> 326\u001b[0m     imported_inline_datasets[name] \u001b[38;5;241m=\u001b[39m \u001b[43mTable\u001b[49m\u001b[43m(\u001b[49m\u001b[43mdf_nw\u001b[49m\u001b[43m)\u001b[49m  \u001b[38;5;66;03m# type: ignore[arg-type]\u001b[39;00m\n\u001b[0;32m    327\u001b[0m \u001b[38;5;28;01mexcept\u001b[39;00m \u001b[38;5;167;01mTypeError\u001b[39;00m:\n\u001b[0;32m    328\u001b[0m     \u001b[38;5;66;03m# Not supported by Narwhals, try pycapsule interface directly\u001b[39;00m\n",
      "\u001b[1;31mTypeError\u001b[0m: Expected Table-like input or dict of arrays or sequence of arrays.",
      "\nDuring handling of the above exception, another exception occurred:\n",
      "\u001b[1;31mTypeError\u001b[0m                                 Traceback (most recent call last)",
      "File \u001b[1;32m~\\AppData\\Roaming\\Python\\Python312\\site-packages\\IPython\\core\\formatters.py:977\u001b[0m, in \u001b[0;36mMimeBundleFormatter.__call__\u001b[1;34m(self, obj, include, exclude)\u001b[0m\n\u001b[0;32m    974\u001b[0m     method \u001b[38;5;241m=\u001b[39m get_real_method(obj, \u001b[38;5;28mself\u001b[39m\u001b[38;5;241m.\u001b[39mprint_method)\n\u001b[0;32m    976\u001b[0m     \u001b[38;5;28;01mif\u001b[39;00m method \u001b[38;5;129;01mis\u001b[39;00m \u001b[38;5;129;01mnot\u001b[39;00m \u001b[38;5;28;01mNone\u001b[39;00m:\n\u001b[1;32m--> 977\u001b[0m         \u001b[38;5;28;01mreturn\u001b[39;00m \u001b[43mmethod\u001b[49m\u001b[43m(\u001b[49m\u001b[43minclude\u001b[49m\u001b[38;5;241;43m=\u001b[39;49m\u001b[43minclude\u001b[49m\u001b[43m,\u001b[49m\u001b[43m \u001b[49m\u001b[43mexclude\u001b[49m\u001b[38;5;241;43m=\u001b[39;49m\u001b[43mexclude\u001b[49m\u001b[43m)\u001b[49m\n\u001b[0;32m    978\u001b[0m     \u001b[38;5;28;01mreturn\u001b[39;00m \u001b[38;5;28;01mNone\u001b[39;00m\n\u001b[0;32m    979\u001b[0m \u001b[38;5;28;01melse\u001b[39;00m:\n",
      "File \u001b[1;32mc:\\Users\\Gabriel\\AppData\\Local\\Programs\\Python\\Python312\\Lib\\site-packages\\altair\\vegalite\\v5\\api.py:3682\u001b[0m, in \u001b[0;36mTopLevelMixin._repr_mimebundle_\u001b[1;34m(self, *args, **kwds)\u001b[0m\n\u001b[0;32m   3680\u001b[0m \u001b[38;5;28;01melse\u001b[39;00m:\n\u001b[0;32m   3681\u001b[0m     \u001b[38;5;28;01mif\u001b[39;00m renderer \u001b[38;5;241m:=\u001b[39m renderers\u001b[38;5;241m.\u001b[39mget():\n\u001b[1;32m-> 3682\u001b[0m         \u001b[38;5;28;01mreturn\u001b[39;00m \u001b[43mrenderer\u001b[49m\u001b[43m(\u001b[49m\u001b[43mdct\u001b[49m\u001b[43m)\u001b[49m\n",
      "File \u001b[1;32mc:\\Users\\Gabriel\\AppData\\Local\\Programs\\Python\\Python312\\Lib\\site-packages\\altair\\utils\\display.py:232\u001b[0m, in \u001b[0;36mHTMLRenderer.__call__\u001b[1;34m(self, spec, **metadata)\u001b[0m\n\u001b[0;32m    230\u001b[0m kwargs \u001b[38;5;241m=\u001b[39m \u001b[38;5;28mself\u001b[39m\u001b[38;5;241m.\u001b[39mkwargs\u001b[38;5;241m.\u001b[39mcopy()\n\u001b[0;32m    231\u001b[0m kwargs\u001b[38;5;241m.\u001b[39mupdate(\u001b[38;5;241m*\u001b[39m\u001b[38;5;241m*\u001b[39mmetadata, output_div\u001b[38;5;241m=\u001b[39m\u001b[38;5;28mself\u001b[39m\u001b[38;5;241m.\u001b[39moutput_div)\n\u001b[1;32m--> 232\u001b[0m \u001b[38;5;28;01mreturn\u001b[39;00m \u001b[43mspec_to_mimebundle\u001b[49m\u001b[43m(\u001b[49m\u001b[43mspec\u001b[49m\u001b[43m,\u001b[49m\u001b[43m \u001b[49m\u001b[38;5;28;43mformat\u001b[39;49m\u001b[38;5;241;43m=\u001b[39;49m\u001b[38;5;124;43m\"\u001b[39;49m\u001b[38;5;124;43mhtml\u001b[39;49m\u001b[38;5;124;43m\"\u001b[39;49m\u001b[43m,\u001b[49m\u001b[43m \u001b[49m\u001b[38;5;241;43m*\u001b[39;49m\u001b[38;5;241;43m*\u001b[39;49m\u001b[43mkwargs\u001b[49m\u001b[43m)\u001b[49m\n",
      "File \u001b[1;32mc:\\Users\\Gabriel\\AppData\\Local\\Programs\\Python\\Python312\\Lib\\site-packages\\altair\\utils\\mimebundle.py:129\u001b[0m, in \u001b[0;36mspec_to_mimebundle\u001b[1;34m(spec, format, mode, vega_version, vegaembed_version, vegalite_version, embed_options, engine, **kwargs)\u001b[0m\n\u001b[0;32m    127\u001b[0m internal_mode: Literal[\u001b[38;5;124m\"\u001b[39m\u001b[38;5;124mvega-lite\u001b[39m\u001b[38;5;124m\"\u001b[39m, \u001b[38;5;124m\"\u001b[39m\u001b[38;5;124mvega\u001b[39m\u001b[38;5;124m\"\u001b[39m] \u001b[38;5;241m=\u001b[39m mode\n\u001b[0;32m    128\u001b[0m \u001b[38;5;28;01mif\u001b[39;00m using_vegafusion():\n\u001b[1;32m--> 129\u001b[0m     spec \u001b[38;5;241m=\u001b[39m \u001b[43mcompile_with_vegafusion\u001b[49m\u001b[43m(\u001b[49m\u001b[43mspec\u001b[49m\u001b[43m)\u001b[49m\n\u001b[0;32m    130\u001b[0m     internal_mode \u001b[38;5;241m=\u001b[39m \u001b[38;5;124m\"\u001b[39m\u001b[38;5;124mvega\u001b[39m\u001b[38;5;124m\"\u001b[39m\n\u001b[0;32m    132\u001b[0m \u001b[38;5;66;03m# Default to the embed options set by alt.renderers.set_embed_options\u001b[39;00m\n",
      "File \u001b[1;32mc:\\Users\\Gabriel\\AppData\\Local\\Programs\\Python\\Python312\\Lib\\site-packages\\altair\\utils\\_vegafusion_data.py:273\u001b[0m, in \u001b[0;36mcompile_with_vegafusion\u001b[1;34m(vegalite_spec)\u001b[0m\n\u001b[0;32m    271\u001b[0m \u001b[38;5;66;03m# Pre-evaluate transforms in vega spec with vegafusion\u001b[39;00m\n\u001b[0;32m    272\u001b[0m row_limit \u001b[38;5;241m=\u001b[39m data_transformers\u001b[38;5;241m.\u001b[39moptions\u001b[38;5;241m.\u001b[39mget(\u001b[38;5;124m\"\u001b[39m\u001b[38;5;124mmax_rows\u001b[39m\u001b[38;5;124m\"\u001b[39m, \u001b[38;5;28;01mNone\u001b[39;00m)\n\u001b[1;32m--> 273\u001b[0m transformed_vega_spec, warnings \u001b[38;5;241m=\u001b[39m \u001b[43mvf\u001b[49m\u001b[38;5;241;43m.\u001b[39;49m\u001b[43mruntime\u001b[49m\u001b[38;5;241;43m.\u001b[39;49m\u001b[43mpre_transform_spec\u001b[49m\u001b[43m(\u001b[49m\n\u001b[0;32m    274\u001b[0m \u001b[43m    \u001b[49m\u001b[43mvega_spec\u001b[49m\u001b[43m,\u001b[49m\n\u001b[0;32m    275\u001b[0m \u001b[43m    \u001b[49m\u001b[43mvf\u001b[49m\u001b[38;5;241;43m.\u001b[39;49m\u001b[43mget_local_tz\u001b[49m\u001b[43m(\u001b[49m\u001b[43m)\u001b[49m\u001b[43m,\u001b[49m\n\u001b[0;32m    276\u001b[0m \u001b[43m    \u001b[49m\u001b[43minline_datasets\u001b[49m\u001b[38;5;241;43m=\u001b[39;49m\u001b[43minline_tables\u001b[49m\u001b[43m,\u001b[49m\n\u001b[0;32m    277\u001b[0m \u001b[43m    \u001b[49m\u001b[43mrow_limit\u001b[49m\u001b[38;5;241;43m=\u001b[39;49m\u001b[43mrow_limit\u001b[49m\u001b[43m,\u001b[49m\n\u001b[0;32m    278\u001b[0m \u001b[43m\u001b[49m\u001b[43m)\u001b[49m\n\u001b[0;32m    280\u001b[0m \u001b[38;5;66;03m# Check from row limit warning and convert to MaxRowsError\u001b[39;00m\n\u001b[0;32m    281\u001b[0m handle_row_limit_exceeded(row_limit, warnings)\n",
      "File \u001b[1;32mc:\\Users\\Gabriel\\AppData\\Local\\Programs\\Python\\Python312\\Lib\\site-packages\\vegafusion\\runtime.py:408\u001b[0m, in \u001b[0;36mVegaFusionRuntime.pre_transform_spec\u001b[1;34m(self, spec, local_tz, default_input_tz, row_limit, preserve_interactivity, inline_datasets, keep_signals, keep_datasets)\u001b[0m\n\u001b[0;32m    347\u001b[0m \u001b[38;5;250m\u001b[39m\u001b[38;5;124;03m\"\"\"\u001b[39;00m\n\u001b[0;32m    348\u001b[0m \u001b[38;5;124;03mEvaluate supported transforms in an input Vega specification\u001b[39;00m\n\u001b[0;32m    349\u001b[0m \n\u001b[1;32m   (...)\u001b[0m\n\u001b[0;32m    405\u001b[0m \u001b[38;5;124;03m        were eligible for pre-transforming\u001b[39;00m\n\u001b[0;32m    406\u001b[0m \u001b[38;5;124;03m\"\"\"\u001b[39;00m\n\u001b[0;32m    407\u001b[0m local_tz \u001b[38;5;241m=\u001b[39m local_tz \u001b[38;5;129;01mor\u001b[39;00m get_local_tz()\n\u001b[1;32m--> 408\u001b[0m imported_inline_dataset \u001b[38;5;241m=\u001b[39m \u001b[38;5;28;43mself\u001b[39;49m\u001b[38;5;241;43m.\u001b[39;49m\u001b[43m_import_inline_datasets\u001b[49m\u001b[43m(\u001b[49m\n\u001b[0;32m    409\u001b[0m \u001b[43m    \u001b[49m\u001b[43minline_datasets\u001b[49m\u001b[43m,\u001b[49m\u001b[43m \u001b[49m\u001b[43mget_inline_column_usage\u001b[49m\u001b[43m(\u001b[49m\u001b[43mspec\u001b[49m\u001b[43m)\u001b[49m\n\u001b[0;32m    410\u001b[0m \u001b[43m\u001b[49m\u001b[43m)\u001b[49m\n\u001b[0;32m    412\u001b[0m new_spec, warnings \u001b[38;5;241m=\u001b[39m \u001b[38;5;28mself\u001b[39m\u001b[38;5;241m.\u001b[39mruntime\u001b[38;5;241m.\u001b[39mpre_transform_spec(\n\u001b[0;32m    413\u001b[0m     spec,\n\u001b[0;32m    414\u001b[0m     local_tz\u001b[38;5;241m=\u001b[39mlocal_tz,\n\u001b[1;32m   (...)\u001b[0m\n\u001b[0;32m    420\u001b[0m     keep_datasets\u001b[38;5;241m=\u001b[39mparse_variables(keep_datasets),\n\u001b[0;32m    421\u001b[0m )\n\u001b[0;32m    423\u001b[0m \u001b[38;5;28;01mreturn\u001b[39;00m new_spec, warnings\n",
      "File \u001b[1;32mc:\\Users\\Gabriel\\AppData\\Local\\Programs\\Python\\Python312\\Lib\\site-packages\\vegafusion\\runtime.py:330\u001b[0m, in \u001b[0;36mVegaFusionRuntime._import_inline_datasets\u001b[1;34m(self, inline_datasets, inline_dataset_usage)\u001b[0m\n\u001b[0;32m    327\u001b[0m \u001b[38;5;28;01mexcept\u001b[39;00m \u001b[38;5;167;01mTypeError\u001b[39;00m:\n\u001b[0;32m    328\u001b[0m     \u001b[38;5;66;03m# Not supported by Narwhals, try pycapsule interface directly\u001b[39;00m\n\u001b[0;32m    329\u001b[0m     \u001b[38;5;28;01mif\u001b[39;00m \u001b[38;5;28mhasattr\u001b[39m(value, \u001b[38;5;124m\"\u001b[39m\u001b[38;5;124m__arrow_c_stream__\u001b[39m\u001b[38;5;124m\"\u001b[39m):\n\u001b[1;32m--> 330\u001b[0m         imported_inline_datasets[name] \u001b[38;5;241m=\u001b[39m \u001b[43mTable\u001b[49m\u001b[43m(\u001b[49m\u001b[43mvalue\u001b[49m\u001b[43m)\u001b[49m  \u001b[38;5;66;03m# type: ignore[arg-type]\u001b[39;00m\n\u001b[0;32m    331\u001b[0m     \u001b[38;5;28;01melse\u001b[39;00m:\n\u001b[0;32m    332\u001b[0m         \u001b[38;5;28;01mraise\u001b[39;00m\n",
      "\u001b[1;31mTypeError\u001b[0m: Expected Table-like input or dict of arrays or sequence of arrays."
     ]
    },
    {
     "data": {
      "text/plain": [
       "alt.Chart(...)"
      ]
     },
     "execution_count": 14,
     "metadata": {},
     "output_type": "execute_result"
    }
   ],
   "source": [
    "alt.data_transformers.enable(\"vegafusion\")\n",
    "alt.Chart(dado).mark_bar().encode(\n",
    "    x=alt.X('cor_raca:N'),\n",
    "    y=alt.Y('populacao:Q'),\n",
    "    color=alt.Color('alfabetizacao:N')\n",
    ").interactive()"
   ]
  },
  {
   "cell_type": "markdown",
   "metadata": {},
   "source": [
    "Me parece que as raças parda e preta tendem à serem menos favorecidas em termos de alfabetização, do que a raça branca."
   ]
  },
  {
   "cell_type": "code",
   "execution_count": 15,
   "metadata": {},
   "outputs": [
    {
     "ename": "TypeError",
     "evalue": "Expected Table-like input or dict of arrays or sequence of arrays.",
     "output_type": "error",
     "traceback": [
      "\u001b[1;31m---------------------------------------------------------------------------\u001b[0m",
      "\u001b[1;31mTypeError\u001b[0m                                 Traceback (most recent call last)",
      "File \u001b[1;32mc:\\Users\\Gabriel\\AppData\\Local\\Programs\\Python\\Python312\\Lib\\site-packages\\vegafusion\\runtime.py:326\u001b[0m, in \u001b[0;36mVegaFusionRuntime._import_inline_datasets\u001b[1;34m(self, inline_datasets, inline_dataset_usage)\u001b[0m\n\u001b[0;32m    324\u001b[0m         df_nw \u001b[38;5;241m=\u001b[39m df_nw\u001b[38;5;241m.\u001b[39mselect(columns)\n\u001b[1;32m--> 326\u001b[0m     imported_inline_datasets[name] \u001b[38;5;241m=\u001b[39m \u001b[43mTable\u001b[49m\u001b[43m(\u001b[49m\u001b[43mdf_nw\u001b[49m\u001b[43m)\u001b[49m  \u001b[38;5;66;03m# type: ignore[arg-type]\u001b[39;00m\n\u001b[0;32m    327\u001b[0m \u001b[38;5;28;01mexcept\u001b[39;00m \u001b[38;5;167;01mTypeError\u001b[39;00m:\n\u001b[0;32m    328\u001b[0m     \u001b[38;5;66;03m# Not supported by Narwhals, try pycapsule interface directly\u001b[39;00m\n",
      "\u001b[1;31mTypeError\u001b[0m: Expected Table-like input or dict of arrays or sequence of arrays.",
      "\nDuring handling of the above exception, another exception occurred:\n",
      "\u001b[1;31mTypeError\u001b[0m                                 Traceback (most recent call last)",
      "File \u001b[1;32m~\\AppData\\Roaming\\Python\\Python312\\site-packages\\IPython\\core\\formatters.py:977\u001b[0m, in \u001b[0;36mMimeBundleFormatter.__call__\u001b[1;34m(self, obj, include, exclude)\u001b[0m\n\u001b[0;32m    974\u001b[0m     method \u001b[38;5;241m=\u001b[39m get_real_method(obj, \u001b[38;5;28mself\u001b[39m\u001b[38;5;241m.\u001b[39mprint_method)\n\u001b[0;32m    976\u001b[0m     \u001b[38;5;28;01mif\u001b[39;00m method \u001b[38;5;129;01mis\u001b[39;00m \u001b[38;5;129;01mnot\u001b[39;00m \u001b[38;5;28;01mNone\u001b[39;00m:\n\u001b[1;32m--> 977\u001b[0m         \u001b[38;5;28;01mreturn\u001b[39;00m \u001b[43mmethod\u001b[49m\u001b[43m(\u001b[49m\u001b[43minclude\u001b[49m\u001b[38;5;241;43m=\u001b[39;49m\u001b[43minclude\u001b[49m\u001b[43m,\u001b[49m\u001b[43m \u001b[49m\u001b[43mexclude\u001b[49m\u001b[38;5;241;43m=\u001b[39;49m\u001b[43mexclude\u001b[49m\u001b[43m)\u001b[49m\n\u001b[0;32m    978\u001b[0m     \u001b[38;5;28;01mreturn\u001b[39;00m \u001b[38;5;28;01mNone\u001b[39;00m\n\u001b[0;32m    979\u001b[0m \u001b[38;5;28;01melse\u001b[39;00m:\n",
      "File \u001b[1;32mc:\\Users\\Gabriel\\AppData\\Local\\Programs\\Python\\Python312\\Lib\\site-packages\\altair\\vegalite\\v5\\api.py:3682\u001b[0m, in \u001b[0;36mTopLevelMixin._repr_mimebundle_\u001b[1;34m(self, *args, **kwds)\u001b[0m\n\u001b[0;32m   3680\u001b[0m \u001b[38;5;28;01melse\u001b[39;00m:\n\u001b[0;32m   3681\u001b[0m     \u001b[38;5;28;01mif\u001b[39;00m renderer \u001b[38;5;241m:=\u001b[39m renderers\u001b[38;5;241m.\u001b[39mget():\n\u001b[1;32m-> 3682\u001b[0m         \u001b[38;5;28;01mreturn\u001b[39;00m \u001b[43mrenderer\u001b[49m\u001b[43m(\u001b[49m\u001b[43mdct\u001b[49m\u001b[43m)\u001b[49m\n",
      "File \u001b[1;32mc:\\Users\\Gabriel\\AppData\\Local\\Programs\\Python\\Python312\\Lib\\site-packages\\altair\\utils\\display.py:232\u001b[0m, in \u001b[0;36mHTMLRenderer.__call__\u001b[1;34m(self, spec, **metadata)\u001b[0m\n\u001b[0;32m    230\u001b[0m kwargs \u001b[38;5;241m=\u001b[39m \u001b[38;5;28mself\u001b[39m\u001b[38;5;241m.\u001b[39mkwargs\u001b[38;5;241m.\u001b[39mcopy()\n\u001b[0;32m    231\u001b[0m kwargs\u001b[38;5;241m.\u001b[39mupdate(\u001b[38;5;241m*\u001b[39m\u001b[38;5;241m*\u001b[39mmetadata, output_div\u001b[38;5;241m=\u001b[39m\u001b[38;5;28mself\u001b[39m\u001b[38;5;241m.\u001b[39moutput_div)\n\u001b[1;32m--> 232\u001b[0m \u001b[38;5;28;01mreturn\u001b[39;00m \u001b[43mspec_to_mimebundle\u001b[49m\u001b[43m(\u001b[49m\u001b[43mspec\u001b[49m\u001b[43m,\u001b[49m\u001b[43m \u001b[49m\u001b[38;5;28;43mformat\u001b[39;49m\u001b[38;5;241;43m=\u001b[39;49m\u001b[38;5;124;43m\"\u001b[39;49m\u001b[38;5;124;43mhtml\u001b[39;49m\u001b[38;5;124;43m\"\u001b[39;49m\u001b[43m,\u001b[49m\u001b[43m \u001b[49m\u001b[38;5;241;43m*\u001b[39;49m\u001b[38;5;241;43m*\u001b[39;49m\u001b[43mkwargs\u001b[49m\u001b[43m)\u001b[49m\n",
      "File \u001b[1;32mc:\\Users\\Gabriel\\AppData\\Local\\Programs\\Python\\Python312\\Lib\\site-packages\\altair\\utils\\mimebundle.py:129\u001b[0m, in \u001b[0;36mspec_to_mimebundle\u001b[1;34m(spec, format, mode, vega_version, vegaembed_version, vegalite_version, embed_options, engine, **kwargs)\u001b[0m\n\u001b[0;32m    127\u001b[0m internal_mode: Literal[\u001b[38;5;124m\"\u001b[39m\u001b[38;5;124mvega-lite\u001b[39m\u001b[38;5;124m\"\u001b[39m, \u001b[38;5;124m\"\u001b[39m\u001b[38;5;124mvega\u001b[39m\u001b[38;5;124m\"\u001b[39m] \u001b[38;5;241m=\u001b[39m mode\n\u001b[0;32m    128\u001b[0m \u001b[38;5;28;01mif\u001b[39;00m using_vegafusion():\n\u001b[1;32m--> 129\u001b[0m     spec \u001b[38;5;241m=\u001b[39m \u001b[43mcompile_with_vegafusion\u001b[49m\u001b[43m(\u001b[49m\u001b[43mspec\u001b[49m\u001b[43m)\u001b[49m\n\u001b[0;32m    130\u001b[0m     internal_mode \u001b[38;5;241m=\u001b[39m \u001b[38;5;124m\"\u001b[39m\u001b[38;5;124mvega\u001b[39m\u001b[38;5;124m\"\u001b[39m\n\u001b[0;32m    132\u001b[0m \u001b[38;5;66;03m# Default to the embed options set by alt.renderers.set_embed_options\u001b[39;00m\n",
      "File \u001b[1;32mc:\\Users\\Gabriel\\AppData\\Local\\Programs\\Python\\Python312\\Lib\\site-packages\\altair\\utils\\_vegafusion_data.py:273\u001b[0m, in \u001b[0;36mcompile_with_vegafusion\u001b[1;34m(vegalite_spec)\u001b[0m\n\u001b[0;32m    271\u001b[0m \u001b[38;5;66;03m# Pre-evaluate transforms in vega spec with vegafusion\u001b[39;00m\n\u001b[0;32m    272\u001b[0m row_limit \u001b[38;5;241m=\u001b[39m data_transformers\u001b[38;5;241m.\u001b[39moptions\u001b[38;5;241m.\u001b[39mget(\u001b[38;5;124m\"\u001b[39m\u001b[38;5;124mmax_rows\u001b[39m\u001b[38;5;124m\"\u001b[39m, \u001b[38;5;28;01mNone\u001b[39;00m)\n\u001b[1;32m--> 273\u001b[0m transformed_vega_spec, warnings \u001b[38;5;241m=\u001b[39m \u001b[43mvf\u001b[49m\u001b[38;5;241;43m.\u001b[39;49m\u001b[43mruntime\u001b[49m\u001b[38;5;241;43m.\u001b[39;49m\u001b[43mpre_transform_spec\u001b[49m\u001b[43m(\u001b[49m\n\u001b[0;32m    274\u001b[0m \u001b[43m    \u001b[49m\u001b[43mvega_spec\u001b[49m\u001b[43m,\u001b[49m\n\u001b[0;32m    275\u001b[0m \u001b[43m    \u001b[49m\u001b[43mvf\u001b[49m\u001b[38;5;241;43m.\u001b[39;49m\u001b[43mget_local_tz\u001b[49m\u001b[43m(\u001b[49m\u001b[43m)\u001b[49m\u001b[43m,\u001b[49m\n\u001b[0;32m    276\u001b[0m \u001b[43m    \u001b[49m\u001b[43minline_datasets\u001b[49m\u001b[38;5;241;43m=\u001b[39;49m\u001b[43minline_tables\u001b[49m\u001b[43m,\u001b[49m\n\u001b[0;32m    277\u001b[0m \u001b[43m    \u001b[49m\u001b[43mrow_limit\u001b[49m\u001b[38;5;241;43m=\u001b[39;49m\u001b[43mrow_limit\u001b[49m\u001b[43m,\u001b[49m\n\u001b[0;32m    278\u001b[0m \u001b[43m\u001b[49m\u001b[43m)\u001b[49m\n\u001b[0;32m    280\u001b[0m \u001b[38;5;66;03m# Check from row limit warning and convert to MaxRowsError\u001b[39;00m\n\u001b[0;32m    281\u001b[0m handle_row_limit_exceeded(row_limit, warnings)\n",
      "File \u001b[1;32mc:\\Users\\Gabriel\\AppData\\Local\\Programs\\Python\\Python312\\Lib\\site-packages\\vegafusion\\runtime.py:408\u001b[0m, in \u001b[0;36mVegaFusionRuntime.pre_transform_spec\u001b[1;34m(self, spec, local_tz, default_input_tz, row_limit, preserve_interactivity, inline_datasets, keep_signals, keep_datasets)\u001b[0m\n\u001b[0;32m    347\u001b[0m \u001b[38;5;250m\u001b[39m\u001b[38;5;124;03m\"\"\"\u001b[39;00m\n\u001b[0;32m    348\u001b[0m \u001b[38;5;124;03mEvaluate supported transforms in an input Vega specification\u001b[39;00m\n\u001b[0;32m    349\u001b[0m \n\u001b[1;32m   (...)\u001b[0m\n\u001b[0;32m    405\u001b[0m \u001b[38;5;124;03m        were eligible for pre-transforming\u001b[39;00m\n\u001b[0;32m    406\u001b[0m \u001b[38;5;124;03m\"\"\"\u001b[39;00m\n\u001b[0;32m    407\u001b[0m local_tz \u001b[38;5;241m=\u001b[39m local_tz \u001b[38;5;129;01mor\u001b[39;00m get_local_tz()\n\u001b[1;32m--> 408\u001b[0m imported_inline_dataset \u001b[38;5;241m=\u001b[39m \u001b[38;5;28;43mself\u001b[39;49m\u001b[38;5;241;43m.\u001b[39;49m\u001b[43m_import_inline_datasets\u001b[49m\u001b[43m(\u001b[49m\n\u001b[0;32m    409\u001b[0m \u001b[43m    \u001b[49m\u001b[43minline_datasets\u001b[49m\u001b[43m,\u001b[49m\u001b[43m \u001b[49m\u001b[43mget_inline_column_usage\u001b[49m\u001b[43m(\u001b[49m\u001b[43mspec\u001b[49m\u001b[43m)\u001b[49m\n\u001b[0;32m    410\u001b[0m \u001b[43m\u001b[49m\u001b[43m)\u001b[49m\n\u001b[0;32m    412\u001b[0m new_spec, warnings \u001b[38;5;241m=\u001b[39m \u001b[38;5;28mself\u001b[39m\u001b[38;5;241m.\u001b[39mruntime\u001b[38;5;241m.\u001b[39mpre_transform_spec(\n\u001b[0;32m    413\u001b[0m     spec,\n\u001b[0;32m    414\u001b[0m     local_tz\u001b[38;5;241m=\u001b[39mlocal_tz,\n\u001b[1;32m   (...)\u001b[0m\n\u001b[0;32m    420\u001b[0m     keep_datasets\u001b[38;5;241m=\u001b[39mparse_variables(keep_datasets),\n\u001b[0;32m    421\u001b[0m )\n\u001b[0;32m    423\u001b[0m \u001b[38;5;28;01mreturn\u001b[39;00m new_spec, warnings\n",
      "File \u001b[1;32mc:\\Users\\Gabriel\\AppData\\Local\\Programs\\Python\\Python312\\Lib\\site-packages\\vegafusion\\runtime.py:330\u001b[0m, in \u001b[0;36mVegaFusionRuntime._import_inline_datasets\u001b[1;34m(self, inline_datasets, inline_dataset_usage)\u001b[0m\n\u001b[0;32m    327\u001b[0m \u001b[38;5;28;01mexcept\u001b[39;00m \u001b[38;5;167;01mTypeError\u001b[39;00m:\n\u001b[0;32m    328\u001b[0m     \u001b[38;5;66;03m# Not supported by Narwhals, try pycapsule interface directly\u001b[39;00m\n\u001b[0;32m    329\u001b[0m     \u001b[38;5;28;01mif\u001b[39;00m \u001b[38;5;28mhasattr\u001b[39m(value, \u001b[38;5;124m\"\u001b[39m\u001b[38;5;124m__arrow_c_stream__\u001b[39m\u001b[38;5;124m\"\u001b[39m):\n\u001b[1;32m--> 330\u001b[0m         imported_inline_datasets[name] \u001b[38;5;241m=\u001b[39m \u001b[43mTable\u001b[49m\u001b[43m(\u001b[49m\u001b[43mvalue\u001b[49m\u001b[43m)\u001b[49m  \u001b[38;5;66;03m# type: ignore[arg-type]\u001b[39;00m\n\u001b[0;32m    331\u001b[0m     \u001b[38;5;28;01melse\u001b[39;00m:\n\u001b[0;32m    332\u001b[0m         \u001b[38;5;28;01mraise\u001b[39;00m\n",
      "\u001b[1;31mTypeError\u001b[0m: Expected Table-like input or dict of arrays or sequence of arrays."
     ]
    },
    {
     "data": {
      "text/plain": [
       "alt.Chart(...)"
      ]
     },
     "execution_count": 15,
     "metadata": {},
     "output_type": "execute_result"
    }
   ],
   "source": [
    "proporcoes = dado.groupby(['cor_raca', 'alfabetizacao']).agg({'populacao': 'sum'}).reset_index()\n",
    "proporcoes = proporcoes[proporcoes['alfabetizacao'] == 'Alfabetizadas'].reset_index()\n",
    "populacao_total = dado.groupby('cor_raca')['populacao'].sum().reset_index()\n",
    "\n",
    "proporcoes['proporcao'] = proporcoes['populacao'] / populacao_total['populacao']\n",
    "\n",
    "alt.Chart(proporcoes).mark_bar().encode(\n",
    "    x=alt.X('cor_raca:N'),\n",
    "    y=alt.Y('proporcao:Q')\n",
    ").interactive()"
   ]
  },
  {
   "cell_type": "markdown",
   "metadata": {},
   "source": [
    "Para o par de variáveis quantitativas, vou usar outra base de dados ([link da base de dados](https://basedosdados.org/dataset/c990253a-8e63-4880-9d45-bca2559aa8e3?table=e2b07b3b-71e4-483b-aca6-4d11e9160b93)):"
   ]
  },
  {
   "cell_type": "code",
   "execution_count": 16,
   "metadata": {},
   "outputs": [
    {
     "data": {
      "text/html": [
       "<div>\n",
       "<style scoped>\n",
       "    .dataframe tbody tr th:only-of-type {\n",
       "        vertical-align: middle;\n",
       "    }\n",
       "\n",
       "    .dataframe tbody tr th {\n",
       "        vertical-align: top;\n",
       "    }\n",
       "\n",
       "    .dataframe thead th {\n",
       "        text-align: right;\n",
       "    }\n",
       "</style>\n",
       "<table border=\"1\" class=\"dataframe\">\n",
       "  <thead>\n",
       "    <tr style=\"text-align: right;\">\n",
       "      <th></th>\n",
       "      <th>year</th>\n",
       "      <th>country_id_iso_3</th>\n",
       "      <th>country</th>\n",
       "      <th>currency_unit</th>\n",
       "      <th>population</th>\n",
       "      <th>employees</th>\n",
       "      <th>real_gdp_expenditures</th>\n",
       "      <th>real_gdp_output</th>\n",
       "      <th>current_consumption</th>\n",
       "      <th>current_absorption</th>\n",
       "      <th>...</th>\n",
       "      <th>indicator_real_rate_return</th>\n",
       "      <th>indicator_stat_capacity</th>\n",
       "      <th>corr_exp_share</th>\n",
       "      <th>current_share_household</th>\n",
       "      <th>current_share_gcf</th>\n",
       "      <th>current_share_gov</th>\n",
       "      <th>current_share_x</th>\n",
       "      <th>current_share_m</th>\n",
       "      <th>current_share_residual_trade</th>\n",
       "      <th>current_share_labour_gdp_na</th>\n",
       "    </tr>\n",
       "  </thead>\n",
       "  <tbody>\n",
       "    <tr>\n",
       "      <th>0</th>\n",
       "      <td>1950</td>\n",
       "      <td>ABW</td>\n",
       "      <td>Aruba</td>\n",
       "      <td>Aruban Guilder</td>\n",
       "      <td>NaN</td>\n",
       "      <td>NaN</td>\n",
       "      <td>NaN</td>\n",
       "      <td>NaN</td>\n",
       "      <td>NaN</td>\n",
       "      <td>NaN</td>\n",
       "      <td>...</td>\n",
       "      <td>NaN</td>\n",
       "      <td>NaN</td>\n",
       "      <td>NaN</td>\n",
       "      <td>NaN</td>\n",
       "      <td>NaN</td>\n",
       "      <td>NaN</td>\n",
       "      <td>NaN</td>\n",
       "      <td>NaN</td>\n",
       "      <td>NaN</td>\n",
       "      <td>NaN</td>\n",
       "    </tr>\n",
       "    <tr>\n",
       "      <th>1</th>\n",
       "      <td>1951</td>\n",
       "      <td>ABW</td>\n",
       "      <td>Aruba</td>\n",
       "      <td>Aruban Guilder</td>\n",
       "      <td>NaN</td>\n",
       "      <td>NaN</td>\n",
       "      <td>NaN</td>\n",
       "      <td>NaN</td>\n",
       "      <td>NaN</td>\n",
       "      <td>NaN</td>\n",
       "      <td>...</td>\n",
       "      <td>NaN</td>\n",
       "      <td>NaN</td>\n",
       "      <td>NaN</td>\n",
       "      <td>NaN</td>\n",
       "      <td>NaN</td>\n",
       "      <td>NaN</td>\n",
       "      <td>NaN</td>\n",
       "      <td>NaN</td>\n",
       "      <td>NaN</td>\n",
       "      <td>NaN</td>\n",
       "    </tr>\n",
       "    <tr>\n",
       "      <th>2</th>\n",
       "      <td>1952</td>\n",
       "      <td>ABW</td>\n",
       "      <td>Aruba</td>\n",
       "      <td>Aruban Guilder</td>\n",
       "      <td>NaN</td>\n",
       "      <td>NaN</td>\n",
       "      <td>NaN</td>\n",
       "      <td>NaN</td>\n",
       "      <td>NaN</td>\n",
       "      <td>NaN</td>\n",
       "      <td>...</td>\n",
       "      <td>NaN</td>\n",
       "      <td>NaN</td>\n",
       "      <td>NaN</td>\n",
       "      <td>NaN</td>\n",
       "      <td>NaN</td>\n",
       "      <td>NaN</td>\n",
       "      <td>NaN</td>\n",
       "      <td>NaN</td>\n",
       "      <td>NaN</td>\n",
       "      <td>NaN</td>\n",
       "    </tr>\n",
       "    <tr>\n",
       "      <th>3</th>\n",
       "      <td>1953</td>\n",
       "      <td>ABW</td>\n",
       "      <td>Aruba</td>\n",
       "      <td>Aruban Guilder</td>\n",
       "      <td>NaN</td>\n",
       "      <td>NaN</td>\n",
       "      <td>NaN</td>\n",
       "      <td>NaN</td>\n",
       "      <td>NaN</td>\n",
       "      <td>NaN</td>\n",
       "      <td>...</td>\n",
       "      <td>NaN</td>\n",
       "      <td>NaN</td>\n",
       "      <td>NaN</td>\n",
       "      <td>NaN</td>\n",
       "      <td>NaN</td>\n",
       "      <td>NaN</td>\n",
       "      <td>NaN</td>\n",
       "      <td>NaN</td>\n",
       "      <td>NaN</td>\n",
       "      <td>NaN</td>\n",
       "    </tr>\n",
       "    <tr>\n",
       "      <th>4</th>\n",
       "      <td>1954</td>\n",
       "      <td>ABW</td>\n",
       "      <td>Aruba</td>\n",
       "      <td>Aruban Guilder</td>\n",
       "      <td>NaN</td>\n",
       "      <td>NaN</td>\n",
       "      <td>NaN</td>\n",
       "      <td>NaN</td>\n",
       "      <td>NaN</td>\n",
       "      <td>NaN</td>\n",
       "      <td>...</td>\n",
       "      <td>NaN</td>\n",
       "      <td>NaN</td>\n",
       "      <td>NaN</td>\n",
       "      <td>NaN</td>\n",
       "      <td>NaN</td>\n",
       "      <td>NaN</td>\n",
       "      <td>NaN</td>\n",
       "      <td>NaN</td>\n",
       "      <td>NaN</td>\n",
       "      <td>NaN</td>\n",
       "    </tr>\n",
       "    <tr>\n",
       "      <th>...</th>\n",
       "      <td>...</td>\n",
       "      <td>...</td>\n",
       "      <td>...</td>\n",
       "      <td>...</td>\n",
       "      <td>...</td>\n",
       "      <td>...</td>\n",
       "      <td>...</td>\n",
       "      <td>...</td>\n",
       "      <td>...</td>\n",
       "      <td>...</td>\n",
       "      <td>...</td>\n",
       "      <td>...</td>\n",
       "      <td>...</td>\n",
       "      <td>...</td>\n",
       "      <td>...</td>\n",
       "      <td>...</td>\n",
       "      <td>...</td>\n",
       "      <td>...</td>\n",
       "      <td>...</td>\n",
       "      <td>...</td>\n",
       "      <td>...</td>\n",
       "    </tr>\n",
       "    <tr>\n",
       "      <th>12805</th>\n",
       "      <td>2015</td>\n",
       "      <td>ZWE</td>\n",
       "      <td>Zimbabwe</td>\n",
       "      <td>US Dollar</td>\n",
       "      <td>13814629.0</td>\n",
       "      <td>6.393752e+06</td>\n",
       "      <td>4.014162e+10</td>\n",
       "      <td>3.979864e+10</td>\n",
       "      <td>4.424936e+10</td>\n",
       "      <td>4.732546e+10</td>\n",
       "      <td>...</td>\n",
       "      <td>Regular</td>\n",
       "      <td>62.222200</td>\n",
       "      <td>0.306506</td>\n",
       "      <td>0.945086</td>\n",
       "      <td>0.077963</td>\n",
       "      <td>0.176403</td>\n",
       "      <td>0.140172</td>\n",
       "      <td>-0.287693</td>\n",
       "      <td>-0.051930</td>\n",
       "      <td>0.533381</td>\n",
       "    </tr>\n",
       "    <tr>\n",
       "      <th>12806</th>\n",
       "      <td>2016</td>\n",
       "      <td>ZWE</td>\n",
       "      <td>Zimbabwe</td>\n",
       "      <td>US Dollar</td>\n",
       "      <td>14030331.0</td>\n",
       "      <td>6.504374e+06</td>\n",
       "      <td>4.187520e+10</td>\n",
       "      <td>4.096319e+10</td>\n",
       "      <td>4.329157e+10</td>\n",
       "      <td>4.640416e+10</td>\n",
       "      <td>...</td>\n",
       "      <td>Regular</td>\n",
       "      <td>55.555533</td>\n",
       "      <td>0.302841</td>\n",
       "      <td>0.890514</td>\n",
       "      <td>0.076169</td>\n",
       "      <td>0.168887</td>\n",
       "      <td>0.131920</td>\n",
       "      <td>-0.251232</td>\n",
       "      <td>-0.016258</td>\n",
       "      <td>0.533381</td>\n",
       "    </tr>\n",
       "    <tr>\n",
       "      <th>12807</th>\n",
       "      <td>2017</td>\n",
       "      <td>ZWE</td>\n",
       "      <td>Zimbabwe</td>\n",
       "      <td>US Dollar</td>\n",
       "      <td>14236595.0</td>\n",
       "      <td>6.611773e+06</td>\n",
       "      <td>4.467218e+10</td>\n",
       "      <td>4.431674e+10</td>\n",
       "      <td>4.611395e+10</td>\n",
       "      <td>4.945757e+10</td>\n",
       "      <td>...</td>\n",
       "      <td>Regular</td>\n",
       "      <td>59.999967</td>\n",
       "      <td>0.301868</td>\n",
       "      <td>0.833453</td>\n",
       "      <td>0.075448</td>\n",
       "      <td>0.207101</td>\n",
       "      <td>0.126722</td>\n",
       "      <td>-0.202827</td>\n",
       "      <td>-0.039897</td>\n",
       "      <td>0.533381</td>\n",
       "    </tr>\n",
       "    <tr>\n",
       "      <th>12808</th>\n",
       "      <td>2018</td>\n",
       "      <td>ZWE</td>\n",
       "      <td>Zimbabwe</td>\n",
       "      <td>US Dollar</td>\n",
       "      <td>14438802.0</td>\n",
       "      <td>6.714952e+06</td>\n",
       "      <td>4.432511e+10</td>\n",
       "      <td>4.342090e+10</td>\n",
       "      <td>4.619844e+10</td>\n",
       "      <td>4.966539e+10</td>\n",
       "      <td>...</td>\n",
       "      <td>Regular</td>\n",
       "      <td>59.999967</td>\n",
       "      <td>NaN</td>\n",
       "      <td>0.790588</td>\n",
       "      <td>0.079576</td>\n",
       "      <td>0.269799</td>\n",
       "      <td>0.144485</td>\n",
       "      <td>-0.263658</td>\n",
       "      <td>-0.020791</td>\n",
       "      <td>0.533381</td>\n",
       "    </tr>\n",
       "    <tr>\n",
       "      <th>12809</th>\n",
       "      <td>2019</td>\n",
       "      <td>ZWE</td>\n",
       "      <td>Zimbabwe</td>\n",
       "      <td>US Dollar</td>\n",
       "      <td>14645468.0</td>\n",
       "      <td>6.831017e+06</td>\n",
       "      <td>4.229606e+10</td>\n",
       "      <td>4.082657e+10</td>\n",
       "      <td>4.396184e+10</td>\n",
       "      <td>4.712879e+10</td>\n",
       "      <td>...</td>\n",
       "      <td>Regular</td>\n",
       "      <td>56.666633</td>\n",
       "      <td>NaN</td>\n",
       "      <td>0.842998</td>\n",
       "      <td>0.077089</td>\n",
       "      <td>0.227109</td>\n",
       "      <td>0.213562</td>\n",
       "      <td>-0.270959</td>\n",
       "      <td>-0.089798</td>\n",
       "      <td>0.533381</td>\n",
       "    </tr>\n",
       "  </tbody>\n",
       "</table>\n",
       "<p>12810 rows × 52 columns</p>\n",
       "</div>"
      ],
      "text/plain": [
       "       year country_id_iso_3   country   currency_unit  population  \\\n",
       "0      1950              ABW     Aruba  Aruban Guilder         NaN   \n",
       "1      1951              ABW     Aruba  Aruban Guilder         NaN   \n",
       "2      1952              ABW     Aruba  Aruban Guilder         NaN   \n",
       "3      1953              ABW     Aruba  Aruban Guilder         NaN   \n",
       "4      1954              ABW     Aruba  Aruban Guilder         NaN   \n",
       "...     ...              ...       ...             ...         ...   \n",
       "12805  2015              ZWE  Zimbabwe       US Dollar  13814629.0   \n",
       "12806  2016              ZWE  Zimbabwe       US Dollar  14030331.0   \n",
       "12807  2017              ZWE  Zimbabwe       US Dollar  14236595.0   \n",
       "12808  2018              ZWE  Zimbabwe       US Dollar  14438802.0   \n",
       "12809  2019              ZWE  Zimbabwe       US Dollar  14645468.0   \n",
       "\n",
       "          employees  real_gdp_expenditures  real_gdp_output  \\\n",
       "0               NaN                    NaN              NaN   \n",
       "1               NaN                    NaN              NaN   \n",
       "2               NaN                    NaN              NaN   \n",
       "3               NaN                    NaN              NaN   \n",
       "4               NaN                    NaN              NaN   \n",
       "...             ...                    ...              ...   \n",
       "12805  6.393752e+06           4.014162e+10     3.979864e+10   \n",
       "12806  6.504374e+06           4.187520e+10     4.096319e+10   \n",
       "12807  6.611773e+06           4.467218e+10     4.431674e+10   \n",
       "12808  6.714952e+06           4.432511e+10     4.342090e+10   \n",
       "12809  6.831017e+06           4.229606e+10     4.082657e+10   \n",
       "\n",
       "       current_consumption  current_absorption  ...  \\\n",
       "0                      NaN                 NaN  ...   \n",
       "1                      NaN                 NaN  ...   \n",
       "2                      NaN                 NaN  ...   \n",
       "3                      NaN                 NaN  ...   \n",
       "4                      NaN                 NaN  ...   \n",
       "...                    ...                 ...  ...   \n",
       "12805         4.424936e+10        4.732546e+10  ...   \n",
       "12806         4.329157e+10        4.640416e+10  ...   \n",
       "12807         4.611395e+10        4.945757e+10  ...   \n",
       "12808         4.619844e+10        4.966539e+10  ...   \n",
       "12809         4.396184e+10        4.712879e+10  ...   \n",
       "\n",
       "       indicator_real_rate_return  indicator_stat_capacity  corr_exp_share  \\\n",
       "0                             NaN                      NaN             NaN   \n",
       "1                             NaN                      NaN             NaN   \n",
       "2                             NaN                      NaN             NaN   \n",
       "3                             NaN                      NaN             NaN   \n",
       "4                             NaN                      NaN             NaN   \n",
       "...                           ...                      ...             ...   \n",
       "12805                     Regular                62.222200        0.306506   \n",
       "12806                     Regular                55.555533        0.302841   \n",
       "12807                     Regular                59.999967        0.301868   \n",
       "12808                     Regular                59.999967             NaN   \n",
       "12809                     Regular                56.666633             NaN   \n",
       "\n",
       "       current_share_household  current_share_gcf  current_share_gov  \\\n",
       "0                          NaN                NaN                NaN   \n",
       "1                          NaN                NaN                NaN   \n",
       "2                          NaN                NaN                NaN   \n",
       "3                          NaN                NaN                NaN   \n",
       "4                          NaN                NaN                NaN   \n",
       "...                        ...                ...                ...   \n",
       "12805                 0.945086           0.077963           0.176403   \n",
       "12806                 0.890514           0.076169           0.168887   \n",
       "12807                 0.833453           0.075448           0.207101   \n",
       "12808                 0.790588           0.079576           0.269799   \n",
       "12809                 0.842998           0.077089           0.227109   \n",
       "\n",
       "       current_share_x  current_share_m  current_share_residual_trade  \\\n",
       "0                  NaN              NaN                           NaN   \n",
       "1                  NaN              NaN                           NaN   \n",
       "2                  NaN              NaN                           NaN   \n",
       "3                  NaN              NaN                           NaN   \n",
       "4                  NaN              NaN                           NaN   \n",
       "...                ...              ...                           ...   \n",
       "12805         0.140172        -0.287693                     -0.051930   \n",
       "12806         0.131920        -0.251232                     -0.016258   \n",
       "12807         0.126722        -0.202827                     -0.039897   \n",
       "12808         0.144485        -0.263658                     -0.020791   \n",
       "12809         0.213562        -0.270959                     -0.089798   \n",
       "\n",
       "       current_share_labour_gdp_na  \n",
       "0                              NaN  \n",
       "1                              NaN  \n",
       "2                              NaN  \n",
       "3                              NaN  \n",
       "4                              NaN  \n",
       "...                            ...  \n",
       "12805                     0.533381  \n",
       "12806                     0.533381  \n",
       "12807                     0.533381  \n",
       "12808                     0.533381  \n",
       "12809                     0.533381  \n",
       "\n",
       "[12810 rows x 52 columns]"
      ]
     },
     "execution_count": 16,
     "metadata": {},
     "output_type": "execute_result"
    }
   ],
   "source": [
    "dado2 = pd.read_csv('nl_ug_pwt_microdados.csv')\n",
    "dado2"
   ]
  },
  {
   "cell_type": "code",
   "execution_count": 17,
   "metadata": {},
   "outputs": [
    {
     "ename": "TypeError",
     "evalue": "Expected Table-like input or dict of arrays or sequence of arrays.",
     "output_type": "error",
     "traceback": [
      "\u001b[1;31m---------------------------------------------------------------------------\u001b[0m",
      "\u001b[1;31mTypeError\u001b[0m                                 Traceback (most recent call last)",
      "File \u001b[1;32mc:\\Users\\Gabriel\\AppData\\Local\\Programs\\Python\\Python312\\Lib\\site-packages\\vegafusion\\runtime.py:326\u001b[0m, in \u001b[0;36mVegaFusionRuntime._import_inline_datasets\u001b[1;34m(self, inline_datasets, inline_dataset_usage)\u001b[0m\n\u001b[0;32m    324\u001b[0m         df_nw \u001b[38;5;241m=\u001b[39m df_nw\u001b[38;5;241m.\u001b[39mselect(columns)\n\u001b[1;32m--> 326\u001b[0m     imported_inline_datasets[name] \u001b[38;5;241m=\u001b[39m \u001b[43mTable\u001b[49m\u001b[43m(\u001b[49m\u001b[43mdf_nw\u001b[49m\u001b[43m)\u001b[49m  \u001b[38;5;66;03m# type: ignore[arg-type]\u001b[39;00m\n\u001b[0;32m    327\u001b[0m \u001b[38;5;28;01mexcept\u001b[39;00m \u001b[38;5;167;01mTypeError\u001b[39;00m:\n\u001b[0;32m    328\u001b[0m     \u001b[38;5;66;03m# Not supported by Narwhals, try pycapsule interface directly\u001b[39;00m\n",
      "\u001b[1;31mTypeError\u001b[0m: Expected Table-like input or dict of arrays or sequence of arrays.",
      "\nDuring handling of the above exception, another exception occurred:\n",
      "\u001b[1;31mTypeError\u001b[0m                                 Traceback (most recent call last)",
      "File \u001b[1;32m~\\AppData\\Roaming\\Python\\Python312\\site-packages\\IPython\\core\\formatters.py:977\u001b[0m, in \u001b[0;36mMimeBundleFormatter.__call__\u001b[1;34m(self, obj, include, exclude)\u001b[0m\n\u001b[0;32m    974\u001b[0m     method \u001b[38;5;241m=\u001b[39m get_real_method(obj, \u001b[38;5;28mself\u001b[39m\u001b[38;5;241m.\u001b[39mprint_method)\n\u001b[0;32m    976\u001b[0m     \u001b[38;5;28;01mif\u001b[39;00m method \u001b[38;5;129;01mis\u001b[39;00m \u001b[38;5;129;01mnot\u001b[39;00m \u001b[38;5;28;01mNone\u001b[39;00m:\n\u001b[1;32m--> 977\u001b[0m         \u001b[38;5;28;01mreturn\u001b[39;00m \u001b[43mmethod\u001b[49m\u001b[43m(\u001b[49m\u001b[43minclude\u001b[49m\u001b[38;5;241;43m=\u001b[39;49m\u001b[43minclude\u001b[49m\u001b[43m,\u001b[49m\u001b[43m \u001b[49m\u001b[43mexclude\u001b[49m\u001b[38;5;241;43m=\u001b[39;49m\u001b[43mexclude\u001b[49m\u001b[43m)\u001b[49m\n\u001b[0;32m    978\u001b[0m     \u001b[38;5;28;01mreturn\u001b[39;00m \u001b[38;5;28;01mNone\u001b[39;00m\n\u001b[0;32m    979\u001b[0m \u001b[38;5;28;01melse\u001b[39;00m:\n",
      "File \u001b[1;32mc:\\Users\\Gabriel\\AppData\\Local\\Programs\\Python\\Python312\\Lib\\site-packages\\altair\\vegalite\\v5\\api.py:3682\u001b[0m, in \u001b[0;36mTopLevelMixin._repr_mimebundle_\u001b[1;34m(self, *args, **kwds)\u001b[0m\n\u001b[0;32m   3680\u001b[0m \u001b[38;5;28;01melse\u001b[39;00m:\n\u001b[0;32m   3681\u001b[0m     \u001b[38;5;28;01mif\u001b[39;00m renderer \u001b[38;5;241m:=\u001b[39m renderers\u001b[38;5;241m.\u001b[39mget():\n\u001b[1;32m-> 3682\u001b[0m         \u001b[38;5;28;01mreturn\u001b[39;00m \u001b[43mrenderer\u001b[49m\u001b[43m(\u001b[49m\u001b[43mdct\u001b[49m\u001b[43m)\u001b[49m\n",
      "File \u001b[1;32mc:\\Users\\Gabriel\\AppData\\Local\\Programs\\Python\\Python312\\Lib\\site-packages\\altair\\utils\\display.py:232\u001b[0m, in \u001b[0;36mHTMLRenderer.__call__\u001b[1;34m(self, spec, **metadata)\u001b[0m\n\u001b[0;32m    230\u001b[0m kwargs \u001b[38;5;241m=\u001b[39m \u001b[38;5;28mself\u001b[39m\u001b[38;5;241m.\u001b[39mkwargs\u001b[38;5;241m.\u001b[39mcopy()\n\u001b[0;32m    231\u001b[0m kwargs\u001b[38;5;241m.\u001b[39mupdate(\u001b[38;5;241m*\u001b[39m\u001b[38;5;241m*\u001b[39mmetadata, output_div\u001b[38;5;241m=\u001b[39m\u001b[38;5;28mself\u001b[39m\u001b[38;5;241m.\u001b[39moutput_div)\n\u001b[1;32m--> 232\u001b[0m \u001b[38;5;28;01mreturn\u001b[39;00m \u001b[43mspec_to_mimebundle\u001b[49m\u001b[43m(\u001b[49m\u001b[43mspec\u001b[49m\u001b[43m,\u001b[49m\u001b[43m \u001b[49m\u001b[38;5;28;43mformat\u001b[39;49m\u001b[38;5;241;43m=\u001b[39;49m\u001b[38;5;124;43m\"\u001b[39;49m\u001b[38;5;124;43mhtml\u001b[39;49m\u001b[38;5;124;43m\"\u001b[39;49m\u001b[43m,\u001b[49m\u001b[43m \u001b[49m\u001b[38;5;241;43m*\u001b[39;49m\u001b[38;5;241;43m*\u001b[39;49m\u001b[43mkwargs\u001b[49m\u001b[43m)\u001b[49m\n",
      "File \u001b[1;32mc:\\Users\\Gabriel\\AppData\\Local\\Programs\\Python\\Python312\\Lib\\site-packages\\altair\\utils\\mimebundle.py:129\u001b[0m, in \u001b[0;36mspec_to_mimebundle\u001b[1;34m(spec, format, mode, vega_version, vegaembed_version, vegalite_version, embed_options, engine, **kwargs)\u001b[0m\n\u001b[0;32m    127\u001b[0m internal_mode: Literal[\u001b[38;5;124m\"\u001b[39m\u001b[38;5;124mvega-lite\u001b[39m\u001b[38;5;124m\"\u001b[39m, \u001b[38;5;124m\"\u001b[39m\u001b[38;5;124mvega\u001b[39m\u001b[38;5;124m\"\u001b[39m] \u001b[38;5;241m=\u001b[39m mode\n\u001b[0;32m    128\u001b[0m \u001b[38;5;28;01mif\u001b[39;00m using_vegafusion():\n\u001b[1;32m--> 129\u001b[0m     spec \u001b[38;5;241m=\u001b[39m \u001b[43mcompile_with_vegafusion\u001b[49m\u001b[43m(\u001b[49m\u001b[43mspec\u001b[49m\u001b[43m)\u001b[49m\n\u001b[0;32m    130\u001b[0m     internal_mode \u001b[38;5;241m=\u001b[39m \u001b[38;5;124m\"\u001b[39m\u001b[38;5;124mvega\u001b[39m\u001b[38;5;124m\"\u001b[39m\n\u001b[0;32m    132\u001b[0m \u001b[38;5;66;03m# Default to the embed options set by alt.renderers.set_embed_options\u001b[39;00m\n",
      "File \u001b[1;32mc:\\Users\\Gabriel\\AppData\\Local\\Programs\\Python\\Python312\\Lib\\site-packages\\altair\\utils\\_vegafusion_data.py:273\u001b[0m, in \u001b[0;36mcompile_with_vegafusion\u001b[1;34m(vegalite_spec)\u001b[0m\n\u001b[0;32m    271\u001b[0m \u001b[38;5;66;03m# Pre-evaluate transforms in vega spec with vegafusion\u001b[39;00m\n\u001b[0;32m    272\u001b[0m row_limit \u001b[38;5;241m=\u001b[39m data_transformers\u001b[38;5;241m.\u001b[39moptions\u001b[38;5;241m.\u001b[39mget(\u001b[38;5;124m\"\u001b[39m\u001b[38;5;124mmax_rows\u001b[39m\u001b[38;5;124m\"\u001b[39m, \u001b[38;5;28;01mNone\u001b[39;00m)\n\u001b[1;32m--> 273\u001b[0m transformed_vega_spec, warnings \u001b[38;5;241m=\u001b[39m \u001b[43mvf\u001b[49m\u001b[38;5;241;43m.\u001b[39;49m\u001b[43mruntime\u001b[49m\u001b[38;5;241;43m.\u001b[39;49m\u001b[43mpre_transform_spec\u001b[49m\u001b[43m(\u001b[49m\n\u001b[0;32m    274\u001b[0m \u001b[43m    \u001b[49m\u001b[43mvega_spec\u001b[49m\u001b[43m,\u001b[49m\n\u001b[0;32m    275\u001b[0m \u001b[43m    \u001b[49m\u001b[43mvf\u001b[49m\u001b[38;5;241;43m.\u001b[39;49m\u001b[43mget_local_tz\u001b[49m\u001b[43m(\u001b[49m\u001b[43m)\u001b[49m\u001b[43m,\u001b[49m\n\u001b[0;32m    276\u001b[0m \u001b[43m    \u001b[49m\u001b[43minline_datasets\u001b[49m\u001b[38;5;241;43m=\u001b[39;49m\u001b[43minline_tables\u001b[49m\u001b[43m,\u001b[49m\n\u001b[0;32m    277\u001b[0m \u001b[43m    \u001b[49m\u001b[43mrow_limit\u001b[49m\u001b[38;5;241;43m=\u001b[39;49m\u001b[43mrow_limit\u001b[49m\u001b[43m,\u001b[49m\n\u001b[0;32m    278\u001b[0m \u001b[43m\u001b[49m\u001b[43m)\u001b[49m\n\u001b[0;32m    280\u001b[0m \u001b[38;5;66;03m# Check from row limit warning and convert to MaxRowsError\u001b[39;00m\n\u001b[0;32m    281\u001b[0m handle_row_limit_exceeded(row_limit, warnings)\n",
      "File \u001b[1;32mc:\\Users\\Gabriel\\AppData\\Local\\Programs\\Python\\Python312\\Lib\\site-packages\\vegafusion\\runtime.py:408\u001b[0m, in \u001b[0;36mVegaFusionRuntime.pre_transform_spec\u001b[1;34m(self, spec, local_tz, default_input_tz, row_limit, preserve_interactivity, inline_datasets, keep_signals, keep_datasets)\u001b[0m\n\u001b[0;32m    347\u001b[0m \u001b[38;5;250m\u001b[39m\u001b[38;5;124;03m\"\"\"\u001b[39;00m\n\u001b[0;32m    348\u001b[0m \u001b[38;5;124;03mEvaluate supported transforms in an input Vega specification\u001b[39;00m\n\u001b[0;32m    349\u001b[0m \n\u001b[1;32m   (...)\u001b[0m\n\u001b[0;32m    405\u001b[0m \u001b[38;5;124;03m        were eligible for pre-transforming\u001b[39;00m\n\u001b[0;32m    406\u001b[0m \u001b[38;5;124;03m\"\"\"\u001b[39;00m\n\u001b[0;32m    407\u001b[0m local_tz \u001b[38;5;241m=\u001b[39m local_tz \u001b[38;5;129;01mor\u001b[39;00m get_local_tz()\n\u001b[1;32m--> 408\u001b[0m imported_inline_dataset \u001b[38;5;241m=\u001b[39m \u001b[38;5;28;43mself\u001b[39;49m\u001b[38;5;241;43m.\u001b[39;49m\u001b[43m_import_inline_datasets\u001b[49m\u001b[43m(\u001b[49m\n\u001b[0;32m    409\u001b[0m \u001b[43m    \u001b[49m\u001b[43minline_datasets\u001b[49m\u001b[43m,\u001b[49m\u001b[43m \u001b[49m\u001b[43mget_inline_column_usage\u001b[49m\u001b[43m(\u001b[49m\u001b[43mspec\u001b[49m\u001b[43m)\u001b[49m\n\u001b[0;32m    410\u001b[0m \u001b[43m\u001b[49m\u001b[43m)\u001b[49m\n\u001b[0;32m    412\u001b[0m new_spec, warnings \u001b[38;5;241m=\u001b[39m \u001b[38;5;28mself\u001b[39m\u001b[38;5;241m.\u001b[39mruntime\u001b[38;5;241m.\u001b[39mpre_transform_spec(\n\u001b[0;32m    413\u001b[0m     spec,\n\u001b[0;32m    414\u001b[0m     local_tz\u001b[38;5;241m=\u001b[39mlocal_tz,\n\u001b[1;32m   (...)\u001b[0m\n\u001b[0;32m    420\u001b[0m     keep_datasets\u001b[38;5;241m=\u001b[39mparse_variables(keep_datasets),\n\u001b[0;32m    421\u001b[0m )\n\u001b[0;32m    423\u001b[0m \u001b[38;5;28;01mreturn\u001b[39;00m new_spec, warnings\n",
      "File \u001b[1;32mc:\\Users\\Gabriel\\AppData\\Local\\Programs\\Python\\Python312\\Lib\\site-packages\\vegafusion\\runtime.py:330\u001b[0m, in \u001b[0;36mVegaFusionRuntime._import_inline_datasets\u001b[1;34m(self, inline_datasets, inline_dataset_usage)\u001b[0m\n\u001b[0;32m    327\u001b[0m \u001b[38;5;28;01mexcept\u001b[39;00m \u001b[38;5;167;01mTypeError\u001b[39;00m:\n\u001b[0;32m    328\u001b[0m     \u001b[38;5;66;03m# Not supported by Narwhals, try pycapsule interface directly\u001b[39;00m\n\u001b[0;32m    329\u001b[0m     \u001b[38;5;28;01mif\u001b[39;00m \u001b[38;5;28mhasattr\u001b[39m(value, \u001b[38;5;124m\"\u001b[39m\u001b[38;5;124m__arrow_c_stream__\u001b[39m\u001b[38;5;124m\"\u001b[39m):\n\u001b[1;32m--> 330\u001b[0m         imported_inline_datasets[name] \u001b[38;5;241m=\u001b[39m \u001b[43mTable\u001b[49m\u001b[43m(\u001b[49m\u001b[43mvalue\u001b[49m\u001b[43m)\u001b[49m  \u001b[38;5;66;03m# type: ignore[arg-type]\u001b[39;00m\n\u001b[0;32m    331\u001b[0m     \u001b[38;5;28;01melse\u001b[39;00m:\n\u001b[0;32m    332\u001b[0m         \u001b[38;5;28;01mraise\u001b[39;00m\n",
      "\u001b[1;31mTypeError\u001b[0m: Expected Table-like input or dict of arrays or sequence of arrays."
     ]
    },
    {
     "data": {
      "text/plain": [
       "alt.Chart(...)"
      ]
     },
     "execution_count": 17,
     "metadata": {},
     "output_type": "execute_result"
    }
   ],
   "source": [
    "barra_ano = alt.selection_point(\n",
    "    name='Ano: ',\n",
    "    fields=['year'],\n",
    "    bind=alt.binding_range(\n",
    "        min=1950,\n",
    "        max=2019,\n",
    "        step=1,\n",
    "        name='Ano'\n",
    "    )\n",
    ")\n",
    "\n",
    "barra_pais = alt.selection_point(\n",
    "    name='País: ',\n",
    "    fields=['country'],\n",
    "    bind=alt.binding_select(\n",
    "        options=pd.unique(dado2['country']),\n",
    "        name='País'\n",
    "    )\n",
    ")\n",
    "\n",
    "alt.Chart(dado2).mark_line().encode(\n",
    "    x=alt.X('current_share_gov:Q', title='Participação do Governo no Consumo'),\n",
    "    y=alt.Y('current_share_household:Q', title='Participação de Moradores no Consumo'),\n",
    ").add_params(\n",
    "    barra_ano,\n",
    "    barra_pais\n",
    ").transform_filter(\n",
    "    barra_ano\n",
    ").transform_filter(\n",
    "    barra_pais\n",
    ")"
   ]
  },
  {
   "cell_type": "markdown",
   "metadata": {},
   "source": [
    "Podemos observar que não tende à haver muita relação entre as variáveis, exceto em períodos especiais, tipo guerras, onde tende à haver uma relação positiva.\n",
    "\n",
    "Vou verificar a característica de raça e alfabetização, no seguinte gráfico:"
   ]
  },
  {
   "cell_type": "code",
   "execution_count": 18,
   "metadata": {},
   "outputs": [
    {
     "ename": "TypeError",
     "evalue": "Expected Table-like input or dict of arrays or sequence of arrays.",
     "output_type": "error",
     "traceback": [
      "\u001b[1;31m---------------------------------------------------------------------------\u001b[0m",
      "\u001b[1;31mTypeError\u001b[0m                                 Traceback (most recent call last)",
      "File \u001b[1;32mc:\\Users\\Gabriel\\AppData\\Local\\Programs\\Python\\Python312\\Lib\\site-packages\\vegafusion\\runtime.py:326\u001b[0m, in \u001b[0;36mVegaFusionRuntime._import_inline_datasets\u001b[1;34m(self, inline_datasets, inline_dataset_usage)\u001b[0m\n\u001b[0;32m    324\u001b[0m         df_nw \u001b[38;5;241m=\u001b[39m df_nw\u001b[38;5;241m.\u001b[39mselect(columns)\n\u001b[1;32m--> 326\u001b[0m     imported_inline_datasets[name] \u001b[38;5;241m=\u001b[39m \u001b[43mTable\u001b[49m\u001b[43m(\u001b[49m\u001b[43mdf_nw\u001b[49m\u001b[43m)\u001b[49m  \u001b[38;5;66;03m# type: ignore[arg-type]\u001b[39;00m\n\u001b[0;32m    327\u001b[0m \u001b[38;5;28;01mexcept\u001b[39;00m \u001b[38;5;167;01mTypeError\u001b[39;00m:\n\u001b[0;32m    328\u001b[0m     \u001b[38;5;66;03m# Not supported by Narwhals, try pycapsule interface directly\u001b[39;00m\n",
      "\u001b[1;31mTypeError\u001b[0m: Expected Table-like input or dict of arrays or sequence of arrays.",
      "\nDuring handling of the above exception, another exception occurred:\n",
      "\u001b[1;31mTypeError\u001b[0m                                 Traceback (most recent call last)",
      "File \u001b[1;32m~\\AppData\\Roaming\\Python\\Python312\\site-packages\\IPython\\core\\formatters.py:977\u001b[0m, in \u001b[0;36mMimeBundleFormatter.__call__\u001b[1;34m(self, obj, include, exclude)\u001b[0m\n\u001b[0;32m    974\u001b[0m     method \u001b[38;5;241m=\u001b[39m get_real_method(obj, \u001b[38;5;28mself\u001b[39m\u001b[38;5;241m.\u001b[39mprint_method)\n\u001b[0;32m    976\u001b[0m     \u001b[38;5;28;01mif\u001b[39;00m method \u001b[38;5;129;01mis\u001b[39;00m \u001b[38;5;129;01mnot\u001b[39;00m \u001b[38;5;28;01mNone\u001b[39;00m:\n\u001b[1;32m--> 977\u001b[0m         \u001b[38;5;28;01mreturn\u001b[39;00m \u001b[43mmethod\u001b[49m\u001b[43m(\u001b[49m\u001b[43minclude\u001b[49m\u001b[38;5;241;43m=\u001b[39;49m\u001b[43minclude\u001b[49m\u001b[43m,\u001b[49m\u001b[43m \u001b[49m\u001b[43mexclude\u001b[49m\u001b[38;5;241;43m=\u001b[39;49m\u001b[43mexclude\u001b[49m\u001b[43m)\u001b[49m\n\u001b[0;32m    978\u001b[0m     \u001b[38;5;28;01mreturn\u001b[39;00m \u001b[38;5;28;01mNone\u001b[39;00m\n\u001b[0;32m    979\u001b[0m \u001b[38;5;28;01melse\u001b[39;00m:\n",
      "File \u001b[1;32mc:\\Users\\Gabriel\\AppData\\Local\\Programs\\Python\\Python312\\Lib\\site-packages\\altair\\vegalite\\v5\\api.py:3682\u001b[0m, in \u001b[0;36mTopLevelMixin._repr_mimebundle_\u001b[1;34m(self, *args, **kwds)\u001b[0m\n\u001b[0;32m   3680\u001b[0m \u001b[38;5;28;01melse\u001b[39;00m:\n\u001b[0;32m   3681\u001b[0m     \u001b[38;5;28;01mif\u001b[39;00m renderer \u001b[38;5;241m:=\u001b[39m renderers\u001b[38;5;241m.\u001b[39mget():\n\u001b[1;32m-> 3682\u001b[0m         \u001b[38;5;28;01mreturn\u001b[39;00m \u001b[43mrenderer\u001b[49m\u001b[43m(\u001b[49m\u001b[43mdct\u001b[49m\u001b[43m)\u001b[49m\n",
      "File \u001b[1;32mc:\\Users\\Gabriel\\AppData\\Local\\Programs\\Python\\Python312\\Lib\\site-packages\\altair\\utils\\display.py:232\u001b[0m, in \u001b[0;36mHTMLRenderer.__call__\u001b[1;34m(self, spec, **metadata)\u001b[0m\n\u001b[0;32m    230\u001b[0m kwargs \u001b[38;5;241m=\u001b[39m \u001b[38;5;28mself\u001b[39m\u001b[38;5;241m.\u001b[39mkwargs\u001b[38;5;241m.\u001b[39mcopy()\n\u001b[0;32m    231\u001b[0m kwargs\u001b[38;5;241m.\u001b[39mupdate(\u001b[38;5;241m*\u001b[39m\u001b[38;5;241m*\u001b[39mmetadata, output_div\u001b[38;5;241m=\u001b[39m\u001b[38;5;28mself\u001b[39m\u001b[38;5;241m.\u001b[39moutput_div)\n\u001b[1;32m--> 232\u001b[0m \u001b[38;5;28;01mreturn\u001b[39;00m \u001b[43mspec_to_mimebundle\u001b[49m\u001b[43m(\u001b[49m\u001b[43mspec\u001b[49m\u001b[43m,\u001b[49m\u001b[43m \u001b[49m\u001b[38;5;28;43mformat\u001b[39;49m\u001b[38;5;241;43m=\u001b[39;49m\u001b[38;5;124;43m\"\u001b[39;49m\u001b[38;5;124;43mhtml\u001b[39;49m\u001b[38;5;124;43m\"\u001b[39;49m\u001b[43m,\u001b[49m\u001b[43m \u001b[49m\u001b[38;5;241;43m*\u001b[39;49m\u001b[38;5;241;43m*\u001b[39;49m\u001b[43mkwargs\u001b[49m\u001b[43m)\u001b[49m\n",
      "File \u001b[1;32mc:\\Users\\Gabriel\\AppData\\Local\\Programs\\Python\\Python312\\Lib\\site-packages\\altair\\utils\\mimebundle.py:129\u001b[0m, in \u001b[0;36mspec_to_mimebundle\u001b[1;34m(spec, format, mode, vega_version, vegaembed_version, vegalite_version, embed_options, engine, **kwargs)\u001b[0m\n\u001b[0;32m    127\u001b[0m internal_mode: Literal[\u001b[38;5;124m\"\u001b[39m\u001b[38;5;124mvega-lite\u001b[39m\u001b[38;5;124m\"\u001b[39m, \u001b[38;5;124m\"\u001b[39m\u001b[38;5;124mvega\u001b[39m\u001b[38;5;124m\"\u001b[39m] \u001b[38;5;241m=\u001b[39m mode\n\u001b[0;32m    128\u001b[0m \u001b[38;5;28;01mif\u001b[39;00m using_vegafusion():\n\u001b[1;32m--> 129\u001b[0m     spec \u001b[38;5;241m=\u001b[39m \u001b[43mcompile_with_vegafusion\u001b[49m\u001b[43m(\u001b[49m\u001b[43mspec\u001b[49m\u001b[43m)\u001b[49m\n\u001b[0;32m    130\u001b[0m     internal_mode \u001b[38;5;241m=\u001b[39m \u001b[38;5;124m\"\u001b[39m\u001b[38;5;124mvega\u001b[39m\u001b[38;5;124m\"\u001b[39m\n\u001b[0;32m    132\u001b[0m \u001b[38;5;66;03m# Default to the embed options set by alt.renderers.set_embed_options\u001b[39;00m\n",
      "File \u001b[1;32mc:\\Users\\Gabriel\\AppData\\Local\\Programs\\Python\\Python312\\Lib\\site-packages\\altair\\utils\\_vegafusion_data.py:273\u001b[0m, in \u001b[0;36mcompile_with_vegafusion\u001b[1;34m(vegalite_spec)\u001b[0m\n\u001b[0;32m    271\u001b[0m \u001b[38;5;66;03m# Pre-evaluate transforms in vega spec with vegafusion\u001b[39;00m\n\u001b[0;32m    272\u001b[0m row_limit \u001b[38;5;241m=\u001b[39m data_transformers\u001b[38;5;241m.\u001b[39moptions\u001b[38;5;241m.\u001b[39mget(\u001b[38;5;124m\"\u001b[39m\u001b[38;5;124mmax_rows\u001b[39m\u001b[38;5;124m\"\u001b[39m, \u001b[38;5;28;01mNone\u001b[39;00m)\n\u001b[1;32m--> 273\u001b[0m transformed_vega_spec, warnings \u001b[38;5;241m=\u001b[39m \u001b[43mvf\u001b[49m\u001b[38;5;241;43m.\u001b[39;49m\u001b[43mruntime\u001b[49m\u001b[38;5;241;43m.\u001b[39;49m\u001b[43mpre_transform_spec\u001b[49m\u001b[43m(\u001b[49m\n\u001b[0;32m    274\u001b[0m \u001b[43m    \u001b[49m\u001b[43mvega_spec\u001b[49m\u001b[43m,\u001b[49m\n\u001b[0;32m    275\u001b[0m \u001b[43m    \u001b[49m\u001b[43mvf\u001b[49m\u001b[38;5;241;43m.\u001b[39;49m\u001b[43mget_local_tz\u001b[49m\u001b[43m(\u001b[49m\u001b[43m)\u001b[49m\u001b[43m,\u001b[49m\n\u001b[0;32m    276\u001b[0m \u001b[43m    \u001b[49m\u001b[43minline_datasets\u001b[49m\u001b[38;5;241;43m=\u001b[39;49m\u001b[43minline_tables\u001b[49m\u001b[43m,\u001b[49m\n\u001b[0;32m    277\u001b[0m \u001b[43m    \u001b[49m\u001b[43mrow_limit\u001b[49m\u001b[38;5;241;43m=\u001b[39;49m\u001b[43mrow_limit\u001b[49m\u001b[43m,\u001b[49m\n\u001b[0;32m    278\u001b[0m \u001b[43m\u001b[49m\u001b[43m)\u001b[49m\n\u001b[0;32m    280\u001b[0m \u001b[38;5;66;03m# Check from row limit warning and convert to MaxRowsError\u001b[39;00m\n\u001b[0;32m    281\u001b[0m handle_row_limit_exceeded(row_limit, warnings)\n",
      "File \u001b[1;32mc:\\Users\\Gabriel\\AppData\\Local\\Programs\\Python\\Python312\\Lib\\site-packages\\vegafusion\\runtime.py:408\u001b[0m, in \u001b[0;36mVegaFusionRuntime.pre_transform_spec\u001b[1;34m(self, spec, local_tz, default_input_tz, row_limit, preserve_interactivity, inline_datasets, keep_signals, keep_datasets)\u001b[0m\n\u001b[0;32m    347\u001b[0m \u001b[38;5;250m\u001b[39m\u001b[38;5;124;03m\"\"\"\u001b[39;00m\n\u001b[0;32m    348\u001b[0m \u001b[38;5;124;03mEvaluate supported transforms in an input Vega specification\u001b[39;00m\n\u001b[0;32m    349\u001b[0m \n\u001b[1;32m   (...)\u001b[0m\n\u001b[0;32m    405\u001b[0m \u001b[38;5;124;03m        were eligible for pre-transforming\u001b[39;00m\n\u001b[0;32m    406\u001b[0m \u001b[38;5;124;03m\"\"\"\u001b[39;00m\n\u001b[0;32m    407\u001b[0m local_tz \u001b[38;5;241m=\u001b[39m local_tz \u001b[38;5;129;01mor\u001b[39;00m get_local_tz()\n\u001b[1;32m--> 408\u001b[0m imported_inline_dataset \u001b[38;5;241m=\u001b[39m \u001b[38;5;28;43mself\u001b[39;49m\u001b[38;5;241;43m.\u001b[39;49m\u001b[43m_import_inline_datasets\u001b[49m\u001b[43m(\u001b[49m\n\u001b[0;32m    409\u001b[0m \u001b[43m    \u001b[49m\u001b[43minline_datasets\u001b[49m\u001b[43m,\u001b[49m\u001b[43m \u001b[49m\u001b[43mget_inline_column_usage\u001b[49m\u001b[43m(\u001b[49m\u001b[43mspec\u001b[49m\u001b[43m)\u001b[49m\n\u001b[0;32m    410\u001b[0m \u001b[43m\u001b[49m\u001b[43m)\u001b[49m\n\u001b[0;32m    412\u001b[0m new_spec, warnings \u001b[38;5;241m=\u001b[39m \u001b[38;5;28mself\u001b[39m\u001b[38;5;241m.\u001b[39mruntime\u001b[38;5;241m.\u001b[39mpre_transform_spec(\n\u001b[0;32m    413\u001b[0m     spec,\n\u001b[0;32m    414\u001b[0m     local_tz\u001b[38;5;241m=\u001b[39mlocal_tz,\n\u001b[1;32m   (...)\u001b[0m\n\u001b[0;32m    420\u001b[0m     keep_datasets\u001b[38;5;241m=\u001b[39mparse_variables(keep_datasets),\n\u001b[0;32m    421\u001b[0m )\n\u001b[0;32m    423\u001b[0m \u001b[38;5;28;01mreturn\u001b[39;00m new_spec, warnings\n",
      "File \u001b[1;32mc:\\Users\\Gabriel\\AppData\\Local\\Programs\\Python\\Python312\\Lib\\site-packages\\vegafusion\\runtime.py:330\u001b[0m, in \u001b[0;36mVegaFusionRuntime._import_inline_datasets\u001b[1;34m(self, inline_datasets, inline_dataset_usage)\u001b[0m\n\u001b[0;32m    327\u001b[0m \u001b[38;5;28;01mexcept\u001b[39;00m \u001b[38;5;167;01mTypeError\u001b[39;00m:\n\u001b[0;32m    328\u001b[0m     \u001b[38;5;66;03m# Not supported by Narwhals, try pycapsule interface directly\u001b[39;00m\n\u001b[0;32m    329\u001b[0m     \u001b[38;5;28;01mif\u001b[39;00m \u001b[38;5;28mhasattr\u001b[39m(value, \u001b[38;5;124m\"\u001b[39m\u001b[38;5;124m__arrow_c_stream__\u001b[39m\u001b[38;5;124m\"\u001b[39m):\n\u001b[1;32m--> 330\u001b[0m         imported_inline_datasets[name] \u001b[38;5;241m=\u001b[39m \u001b[43mTable\u001b[49m\u001b[43m(\u001b[49m\u001b[43mvalue\u001b[49m\u001b[43m)\u001b[49m  \u001b[38;5;66;03m# type: ignore[arg-type]\u001b[39;00m\n\u001b[0;32m    331\u001b[0m     \u001b[38;5;28;01melse\u001b[39;00m:\n\u001b[0;32m    332\u001b[0m         \u001b[38;5;28;01mraise\u001b[39;00m\n",
      "\u001b[1;31mTypeError\u001b[0m: Expected Table-like input or dict of arrays or sequence of arrays."
     ]
    },
    {
     "data": {
      "text/plain": [
       "alt.Chart(...)"
      ]
     },
     "execution_count": 18,
     "metadata": {},
     "output_type": "execute_result"
    }
   ],
   "source": [
    "proporcoes = dado.groupby(['cor_raca', 'alfabetizacao']).agg({'populacao': 'sum'}).reset_index()\n",
    "proporcoes = proporcoes[proporcoes['alfabetizacao'] == 'Alfabetizadas'].reset_index()\n",
    "populacao_total = dado.groupby('cor_raca')['populacao'].sum().reset_index()\n",
    "\n",
    "proporcoes['proporcao'] = proporcoes['populacao'] / populacao_total['populacao']\n",
    "\n",
    "alt.Chart(proporcoes).mark_bar().encode(\n",
    "    x=alt.X('cor_raca:N'),\n",
    "    y=alt.Y('proporcao:Q')\n",
    ").interactive()"
   ]
  },
  {
   "cell_type": "markdown",
   "metadata": {},
   "source": [
    "Por fim, podemos ver que de fato há desfavorecimento de raças como indígena, parda e preta em relação à raça branca.\n",
    "\n",
    "Vimos também, que o consumo do governo não tende à influenciar os gastos de moradores, exeto em períodos especiais."
   ]
  },
  {
   "cell_type": "markdown",
   "metadata": {},
   "source": [
    "## Conversão para html\n",
    "\n",
    "O código abaixo converte o seu notebook em um arquivo do formato `html`. **Lembre de salvar o seu arquivo antes de rodar esse trecho, ou as alterações não aparecerão no html.**"
   ]
  },
  {
   "cell_type": "code",
   "execution_count": 19,
   "metadata": {},
   "outputs": [],
   "source": [
    "#! jupyter nbconvert --to html AV1.ipynb"
   ]
  }
 ],
 "metadata": {
  "kernelspec": {
   "display_name": "Python 3",
   "language": "python",
   "name": "python3"
  },
  "language_info": {
   "codemirror_mode": {
    "name": "ipython",
    "version": 3
   },
   "file_extension": ".py",
   "mimetype": "text/x-python",
   "name": "python",
   "nbconvert_exporter": "python",
   "pygments_lexer": "ipython3",
   "version": "3.12.2"
  }
 },
 "nbformat": 4,
 "nbformat_minor": 2
}
